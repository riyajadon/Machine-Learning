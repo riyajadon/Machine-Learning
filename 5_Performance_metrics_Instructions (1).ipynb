{
 "cells": [
  {
   "cell_type": "markdown",
   "metadata": {
    "id": "s0Ej_bXyQvnV"
   },
   "source": [
    "# Compute performance metrics for the given Y and Y_score without sklearn"
   ]
  },
  {
   "cell_type": "code",
   "execution_count": 48,
   "metadata": {
    "id": "4CHb6NE7Qvnc"
   },
   "outputs": [],
   "source": [
    "import numpy as np\n",
    "import pandas as pd\n",
    "# other than these two you should not import any other packages"
   ]
  },
  {
   "cell_type": "markdown",
   "metadata": {
    "id": "KbsWXuDaQvnq"
   },
   "source": [
    "<pre>\n",
    "<font color='red'><b>A.</b></font> Compute performance metrics for the given data <strong>5_a.csv</strong>\n",
    "   <b>Note 1:</b> in this data you can see number of positive points >> number of negatives points\n",
    "   <b>Note 2:</b> use pandas or numpy to read the data from <b>5_a.csv</b>\n",
    "   <b>Note 3:</b> you need to derive the class labels from given score</pre> $y^{pred}= \\text{[0 if y_score < 0.5 else 1]}$\n",
    "\n",
    "<pre>\n",
    "<ol>\n",
    "<li> Compute Confusion Matrix </li>\n",
    "<li> Compute F1 Score </li>\n",
    "<li> Compute AUC Score, you need to compute different thresholds and for each threshold compute tpr,fpr and then use               numpy.trapz(tpr_array, fpr_array) <a href='https://stackoverflow.com/q/53603376/4084039'>https://stackoverflow.com/q/53603376/4084039</a>, <a href='https://stackoverflow.com/a/39678975/4084039'>https://stackoverflow.com/a/39678975/4084039</a> Note: it should be numpy.trapz(tpr_array, fpr_array) not numpy.trapz(fpr_array, tpr_array)</li>\n",
    "<li> Compute Accuracy Score </li>\n",
    "</ol>\n",
    "</pre>"
   ]
  },
  {
   "cell_type": "code",
   "execution_count": 49,
   "metadata": {
    "colab": {
     "base_uri": "https://localhost:8080/",
     "height": 73,
     "resources": {
      "http://localhost:8080/nbextensions/google.colab/files.js": {
       "data": "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",
       "headers": [
        [
         "content-type",
         "application/javascript"
        ]
       ],
       "ok": true,
       "status": 200,
       "status_text": ""
      }
     }
    },
    "id": "U2sKlq0YQvn5",
    "outputId": "4d742001-19c7-4eda-b8ab-f8e2c638057b"
   },
   "outputs": [
    {
     "data": {
      "text/html": [
       "\n",
       "     <input type=\"file\" id=\"files-cabc6d5f-667d-4d94-859a-56f4470c77a6\" name=\"files[]\" multiple disabled\n",
       "        style=\"border:none\" />\n",
       "     <output id=\"result-cabc6d5f-667d-4d94-859a-56f4470c77a6\">\n",
       "      Upload widget is only available when the cell has been executed in the\n",
       "      current browser session. Please rerun this cell to enable.\n",
       "      </output>\n",
       "      <script src=\"/nbextensions/google.colab/files.js\"></script> "
      ],
      "text/plain": [
       "<IPython.core.display.HTML object>"
      ]
     },
     "metadata": {},
     "output_type": "display_data"
    },
    {
     "name": "stdout",
     "output_type": "stream",
     "text": [
      "Saving 5_a.csv to 5_a (1).csv\n"
     ]
    }
   ],
   "source": [
    "from google.colab import files\n",
    "  \n",
    "  \n",
    "uploaded = files.upload()"
   ]
  },
  {
   "cell_type": "code",
   "execution_count": 50,
   "metadata": {
    "colab": {
     "base_uri": "https://localhost:8080/",
     "height": 203
    },
    "id": "lhFfcvXhkh0W",
    "outputId": "4e744fa5-71f4-47ac-aa46-786da8849b4f"
   },
   "outputs": [
    {
     "data": {
      "text/html": [
       "<div>\n",
       "<style scoped>\n",
       "    .dataframe tbody tr th:only-of-type {\n",
       "        vertical-align: middle;\n",
       "    }\n",
       "\n",
       "    .dataframe tbody tr th {\n",
       "        vertical-align: top;\n",
       "    }\n",
       "\n",
       "    .dataframe thead th {\n",
       "        text-align: right;\n",
       "    }\n",
       "</style>\n",
       "<table border=\"1\" class=\"dataframe\">\n",
       "  <thead>\n",
       "    <tr style=\"text-align: right;\">\n",
       "      <th></th>\n",
       "      <th>y</th>\n",
       "      <th>proba</th>\n",
       "    </tr>\n",
       "  </thead>\n",
       "  <tbody>\n",
       "    <tr>\n",
       "      <th>0</th>\n",
       "      <td>1.0</td>\n",
       "      <td>0.637387</td>\n",
       "    </tr>\n",
       "    <tr>\n",
       "      <th>1</th>\n",
       "      <td>1.0</td>\n",
       "      <td>0.635165</td>\n",
       "    </tr>\n",
       "    <tr>\n",
       "      <th>2</th>\n",
       "      <td>1.0</td>\n",
       "      <td>0.766586</td>\n",
       "    </tr>\n",
       "    <tr>\n",
       "      <th>3</th>\n",
       "      <td>1.0</td>\n",
       "      <td>0.724564</td>\n",
       "    </tr>\n",
       "    <tr>\n",
       "      <th>4</th>\n",
       "      <td>1.0</td>\n",
       "      <td>0.889199</td>\n",
       "    </tr>\n",
       "  </tbody>\n",
       "</table>\n",
       "</div>"
      ],
      "text/plain": [
       "     y     proba\n",
       "0  1.0  0.637387\n",
       "1  1.0  0.635165\n",
       "2  1.0  0.766586\n",
       "3  1.0  0.724564\n",
       "4  1.0  0.889199"
      ]
     },
     "execution_count": 50,
     "metadata": {},
     "output_type": "execute_result"
    }
   ],
   "source": [
    "df = pd.read_csv(\"5_a.csv\")\n",
    "df.head(5)"
   ]
  },
  {
   "cell_type": "code",
   "execution_count": 51,
   "metadata": {
    "colab": {
     "base_uri": "https://localhost:8080/"
    },
    "id": "DKR47iRKkicG",
    "outputId": "5d7c794d-b724-48a7-a531-443da5d85244"
   },
   "outputs": [
    {
     "name": "stdout",
     "output_type": "stream",
     "text": [
      "     y     proba  ypred\n",
      "0  1.0  0.637387      1\n",
      "1  1.0  0.635165      1\n",
      "2  1.0  0.766586      1\n",
      "3  1.0  0.724564      1\n",
      "4  1.0  0.889199      1\n",
      "5  1.0  0.601600      1\n",
      "6  1.0  0.666323      1\n",
      "7  1.0  0.567012      1\n",
      "8  1.0  0.650230      1\n",
      "9  1.0  0.829346      1\n"
     ]
    }
   ],
   "source": [
    "#ypred=[0 if y_score < 0.5 else 1]\n",
    "df['ypred'] = df['proba'].apply(lambda x: 0 if x<0.5 else 1)\n",
    "print(df.head(10))"
   ]
  },
  {
   "cell_type": "code",
   "execution_count": 52,
   "metadata": {
    "id": "uJungvnQpxxn"
   },
   "outputs": [],
   "source": [
    "# confusion matrix\n",
    "def confusion_matrix(df):\n",
    "    TP=0\n",
    "    TN=0\n",
    "    FN=0\n",
    "    FP=0\n",
    "    for i in df.index:\n",
    "      if(df.y[i]==0 and df.ypred[i]==0):\n",
    "        TN += 1\n",
    "      if(df.y[i]==1 and df.ypred[i]==1):\n",
    "        TP += 1\n",
    "      if(df.y[i]==1 and df.ypred[i]==0):\n",
    "        FN += 1\n",
    "      if(df.y[i]==0 and df.ypred[i]==1):\n",
    "        FP +=1\n",
    "    return {'TN':TN,'TP':TP,'FN':FN,'FP':FP}"
   ]
  },
  {
   "cell_type": "code",
   "execution_count": 53,
   "metadata": {
    "colab": {
     "base_uri": "https://localhost:8080/"
    },
    "id": "_wFemZopyA-u",
    "outputId": "751a376d-18c9-48c2-c728-4e717f184a46"
   },
   "outputs": [
    {
     "name": "stdout",
     "output_type": "stream",
     "text": [
      "Confusion_Matrix {'TN': 0, 'TP': 10000, 'FN': 0, 'FP': 100}\n"
     ]
    }
   ],
   "source": [
    "\n",
    "Confusion_Matrix = confusion_matrix(df)\n",
    "print(\"Confusion_Matrix\",Confusion_Matrix)"
   ]
  },
  {
   "cell_type": "code",
   "execution_count": 54,
   "metadata": {
    "colab": {
     "base_uri": "https://localhost:8080/"
    },
    "id": "_91XbtV_UV4o",
    "outputId": "aece1ef1-2089-4369-a488-70ed850e891c"
   },
   "outputs": [
    {
     "name": "stdout",
     "output_type": "stream",
     "text": [
      "F1 Score is : 0.9950248756218907\n"
     ]
    }
   ],
   "source": [
    "#F1 Score\n",
    "def F1_Score(df):\n",
    "  Confusion_Matrix = confusion_matrix(df)\n",
    "  Precision = Confusion_Matrix['TP']/(Confusion_Matrix ['TP']+Confusion_Matrix ['FP'])\n",
    "  Recall = Confusion_Matrix['TP']/(Confusion_Matrix['FN']+Confusion_Matrix['TP'])\n",
    "  F1_Score = 2/((1/Recall) + (1/Precision))\n",
    "  return F1_Score\n",
    "\n",
    "print(\"F1 Score is :\", F1_Score(df))"
   ]
  },
  {
   "cell_type": "code",
   "execution_count": 55,
   "metadata": {
    "colab": {
     "base_uri": "https://localhost:8080/"
    },
    "id": "2Jp8qsa9k2LM",
    "outputId": "fb8c5329-c1c1-4293-91f9-4303f06487a9"
   },
   "outputs": [
    {
     "name": "stdout",
     "output_type": "stream",
     "text": [
      "Accuracy Score :  0.9900990099009901\n"
     ]
    }
   ],
   "source": [
    "#Accuracy Score\n",
    "Accuracy_Score = (Confusion_Matrix['TP']+Confusion_Matrix['TN'])/(Confusion_Matrix['TP'] + Confusion_Matrix['TN'] + Confusion_Matrix['FP'] + Confusion_Matrix['FN'])\n",
    "print(\"Accuracy Score : \", Accuracy_Score)"
   ]
  },
  {
   "cell_type": "code",
   "execution_count": 56,
   "metadata": {
    "colab": {
     "base_uri": "https://localhost:8080/",
     "height": 203
    },
    "id": "UnJ1b-P7uZ8X",
    "outputId": "490ad927-0f21-4fc3-ab06-02417aac9786"
   },
   "outputs": [
    {
     "data": {
      "text/html": [
       "<div>\n",
       "<style scoped>\n",
       "    .dataframe tbody tr th:only-of-type {\n",
       "        vertical-align: middle;\n",
       "    }\n",
       "\n",
       "    .dataframe tbody tr th {\n",
       "        vertical-align: top;\n",
       "    }\n",
       "\n",
       "    .dataframe thead th {\n",
       "        text-align: right;\n",
       "    }\n",
       "</style>\n",
       "<table border=\"1\" class=\"dataframe\">\n",
       "  <thead>\n",
       "    <tr style=\"text-align: right;\">\n",
       "      <th></th>\n",
       "      <th>y</th>\n",
       "      <th>proba</th>\n",
       "    </tr>\n",
       "  </thead>\n",
       "  <tbody>\n",
       "    <tr>\n",
       "      <th>1664</th>\n",
       "      <td>1.0</td>\n",
       "      <td>0.899965</td>\n",
       "    </tr>\n",
       "    <tr>\n",
       "      <th>2099</th>\n",
       "      <td>1.0</td>\n",
       "      <td>0.899828</td>\n",
       "    </tr>\n",
       "    <tr>\n",
       "      <th>1028</th>\n",
       "      <td>1.0</td>\n",
       "      <td>0.899825</td>\n",
       "    </tr>\n",
       "    <tr>\n",
       "      <th>9592</th>\n",
       "      <td>1.0</td>\n",
       "      <td>0.899812</td>\n",
       "    </tr>\n",
       "    <tr>\n",
       "      <th>8324</th>\n",
       "      <td>1.0</td>\n",
       "      <td>0.899768</td>\n",
       "    </tr>\n",
       "  </tbody>\n",
       "</table>\n",
       "</div>"
      ],
      "text/plain": [
       "        y     proba\n",
       "1664  1.0  0.899965\n",
       "2099  1.0  0.899828\n",
       "1028  1.0  0.899825\n",
       "9592  1.0  0.899812\n",
       "8324  1.0  0.899768"
      ]
     },
     "execution_count": 56,
     "metadata": {},
     "output_type": "execute_result"
    }
   ],
   "source": [
    "df=df.sort_values(by='proba',ascending=False)\n",
    "df = df.drop(columns=['ypred'])\n",
    "df.head(5)"
   ]
  },
  {
   "cell_type": "code",
   "execution_count": 57,
   "metadata": {
    "id": "jhCnPszWow_1"
   },
   "outputs": [],
   "source": [
    " from tqdm import tqdm_notebook     \n",
    " def AUC_Score(df):\n",
    "    V = df['y'].value_counts()\n",
    "    Positive = V[1]   \n",
    "    Negative = V[0]  \n",
    "    TPR = []\n",
    "    FPR = []\n",
    "    for i in tqdm_notebook(df['proba']):\n",
    "        df['ypred']=df['proba'].apply(lambda x: 0 if x<i else 1)\n",
    "        Confusion_Matrix=confusion_matrix(df)\n",
    "        TPR.append(Confusion_Matrix['TP']/Positive)\n",
    "        FPR.append(Confusion_Matrix['FP']/Negative)\n",
    "        df = df.drop(columns=['ypred'])\n",
    "    return np.trapz(TPR,FPR)"
   ]
  },
  {
   "cell_type": "code",
   "execution_count": 58,
   "metadata": {
    "colab": {
     "base_uri": "https://localhost:8080/",
     "height": 116,
     "referenced_widgets": [
      "addb03524689472b941c5dd6b086ad72",
      "93bfcc72498b4a8b9b75c64bbdb0922d",
      "aa9207c3e19e4f58b19a9b56cdb5d92f",
      "28f14eb8deb84cce97068662036c7074",
      "de5eee42f48044eb840a9b8d8e84921d",
      "a4dd9a2b26df4fb1b0d6a96d3274bf7c",
      "5d1107c1f4454e71945957a0176d009a",
      "fe2ae26b2a914eff88ee0bb3b3f56157",
      "b75dc1feb9954fc6a300a3c37fb3d14c",
      "427b891398c04c98bb6f217c8656c08c",
      "cf5a866c11d943cda9852eebb524bb9a"
     ]
    },
    "id": "hQvk0WEdxKu7",
    "outputId": "17754085-ea91-4cad-bf7a-51f00c014b61"
   },
   "outputs": [
    {
     "name": "stderr",
     "output_type": "stream",
     "text": [
      "/usr/local/lib/python3.7/dist-packages/ipykernel_launcher.py:8: TqdmDeprecationWarning: This function will be removed in tqdm==5.0.0\n",
      "Please use `tqdm.notebook.tqdm` instead of `tqdm.tqdm_notebook`\n",
      "  \n"
     ]
    },
    {
     "data": {
      "application/vnd.jupyter.widget-view+json": {
       "model_id": "addb03524689472b941c5dd6b086ad72",
       "version_major": 2,
       "version_minor": 0
      },
      "text/plain": [
       "  0%|          | 0/10100 [00:00<?, ?it/s]"
      ]
     },
     "metadata": {},
     "output_type": "display_data"
    },
    {
     "name": "stdout",
     "output_type": "stream",
     "text": [
      "AUC Score : 0.48829900000000004\n"
     ]
    }
   ],
   "source": [
    "AUC_score=AUC_Score(df)\n",
    "print ('AUC Score :',AUC_score)"
   ]
  },
  {
   "cell_type": "markdown",
   "metadata": {
    "id": "V5KZem1BQvn2"
   },
   "source": [
    "<pre>\n",
    "<font color='red'><b>B.</b></font> Compute performance metrics for the given data <strong>5_b.csv</strong>\n",
    "   <b>Note 1:</b> in this data you can see number of positive points << number of negatives points\n",
    "   <b>Note 2:</b> use pandas or numpy to read the data from <b>5_b.csv</b>\n",
    "   <b>Note 3:</b> you need to derive the class labels from given score</pre> $y^{pred}= \\text{[0 if y_score < 0.5 else 1]}$\n",
    "\n",
    "<pre>\n",
    "<ol>\n",
    "<li> Compute Confusion Matrix </li>\n",
    "<li> Compute F1 Score </li>\n",
    "<li> Compute AUC Score, you need to compute different thresholds and for each threshold compute tpr,fpr and then use               numpy.trapz(tpr_array, fpr_array) <a href='https://stackoverflow.com/q/53603376/4084039'>https://stackoverflow.com/q/53603376/4084039</a>, <a href='https://stackoverflow.com/a/39678975/4084039'>https://stackoverflow.com/a/39678975/4084039</a></li>\n",
    "<li> Compute Accuracy Score </li>\n",
    "</ol>\n",
    "</pre>"
   ]
  },
  {
   "cell_type": "code",
   "execution_count": 59,
   "metadata": {
    "colab": {
     "base_uri": "https://localhost:8080/",
     "height": 73,
     "resources": {
      "http://localhost:8080/nbextensions/google.colab/files.js": {
       "data": "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",
       "headers": [
        [
         "content-type",
         "application/javascript"
        ]
       ],
       "ok": true,
       "status": 200,
       "status_text": ""
      }
     }
    },
    "id": "Y4EzHxx_eqkb",
    "outputId": "974e03da-f331-4ab2-f100-c3d449516f0f"
   },
   "outputs": [
    {
     "data": {
      "text/html": [
       "\n",
       "     <input type=\"file\" id=\"files-0f0ce000-0135-43cf-b0b1-99cb60c422fd\" name=\"files[]\" multiple disabled\n",
       "        style=\"border:none\" />\n",
       "     <output id=\"result-0f0ce000-0135-43cf-b0b1-99cb60c422fd\">\n",
       "      Upload widget is only available when the cell has been executed in the\n",
       "      current browser session. Please rerun this cell to enable.\n",
       "      </output>\n",
       "      <script src=\"/nbextensions/google.colab/files.js\"></script> "
      ],
      "text/plain": [
       "<IPython.core.display.HTML object>"
      ]
     },
     "metadata": {},
     "output_type": "display_data"
    },
    {
     "name": "stdout",
     "output_type": "stream",
     "text": [
      "Saving 5_b.csv to 5_b.csv\n"
     ]
    }
   ],
   "source": [
    "from google.colab import files\n",
    "  \n",
    "  \n",
    "uploaded = files.upload()"
   ]
  },
  {
   "cell_type": "code",
   "execution_count": 60,
   "metadata": {
    "colab": {
     "base_uri": "https://localhost:8080/",
     "height": 203
    },
    "id": "NPlYKPrffbsq",
    "outputId": "abc64408-f668-4881-8099-a3a5d42f64ac"
   },
   "outputs": [
    {
     "data": {
      "text/html": [
       "<div>\n",
       "<style scoped>\n",
       "    .dataframe tbody tr th:only-of-type {\n",
       "        vertical-align: middle;\n",
       "    }\n",
       "\n",
       "    .dataframe tbody tr th {\n",
       "        vertical-align: top;\n",
       "    }\n",
       "\n",
       "    .dataframe thead th {\n",
       "        text-align: right;\n",
       "    }\n",
       "</style>\n",
       "<table border=\"1\" class=\"dataframe\">\n",
       "  <thead>\n",
       "    <tr style=\"text-align: right;\">\n",
       "      <th></th>\n",
       "      <th>y</th>\n",
       "      <th>proba</th>\n",
       "    </tr>\n",
       "  </thead>\n",
       "  <tbody>\n",
       "    <tr>\n",
       "      <th>0</th>\n",
       "      <td>0.0</td>\n",
       "      <td>0.281035</td>\n",
       "    </tr>\n",
       "    <tr>\n",
       "      <th>1</th>\n",
       "      <td>0.0</td>\n",
       "      <td>0.465152</td>\n",
       "    </tr>\n",
       "    <tr>\n",
       "      <th>2</th>\n",
       "      <td>0.0</td>\n",
       "      <td>0.352793</td>\n",
       "    </tr>\n",
       "    <tr>\n",
       "      <th>3</th>\n",
       "      <td>0.0</td>\n",
       "      <td>0.157818</td>\n",
       "    </tr>\n",
       "    <tr>\n",
       "      <th>4</th>\n",
       "      <td>0.0</td>\n",
       "      <td>0.276648</td>\n",
       "    </tr>\n",
       "  </tbody>\n",
       "</table>\n",
       "</div>"
      ],
      "text/plain": [
       "     y     proba\n",
       "0  0.0  0.281035\n",
       "1  0.0  0.465152\n",
       "2  0.0  0.352793\n",
       "3  0.0  0.157818\n",
       "4  0.0  0.276648"
      ]
     },
     "execution_count": 60,
     "metadata": {},
     "output_type": "execute_result"
    }
   ],
   "source": [
    "df_b = pd.read_csv(\"5_b.csv\")\n",
    "df_b.head(5)"
   ]
  },
  {
   "cell_type": "code",
   "execution_count": 61,
   "metadata": {
    "colab": {
     "base_uri": "https://localhost:8080/"
    },
    "id": "WlqvmgIKfs7Z",
    "outputId": "f8c261f0-636b-4197-f455-7cc51472f4e9"
   },
   "outputs": [
    {
     "name": "stdout",
     "output_type": "stream",
     "text": [
      "     y     proba  ypred\n",
      "0  0.0  0.281035      0\n",
      "1  0.0  0.465152      0\n",
      "2  0.0  0.352793      0\n",
      "3  0.0  0.157818      0\n",
      "4  0.0  0.276648      0\n",
      "5  0.0  0.190260      0\n",
      "6  0.0  0.320328      0\n",
      "7  0.0  0.435013      0\n",
      "8  0.0  0.284849      0\n",
      "9  0.0  0.427919      0\n"
     ]
    }
   ],
   "source": [
    "#ypred=[0 if y_score < 0.5 else 1]\n",
    "df_b['ypred'] = df_b['proba'].apply(lambda x: 0 if x<0.5 else 1)\n",
    "print(df_b.head(10))"
   ]
  },
  {
   "cell_type": "code",
   "execution_count": 62,
   "metadata": {
    "colab": {
     "base_uri": "https://localhost:8080/"
    },
    "id": "Y1e1N44DnOCE",
    "outputId": "0b6df488-587f-4cbd-9909-f5344363c3da"
   },
   "outputs": [
    {
     "name": "stdout",
     "output_type": "stream",
     "text": [
      "Confusion_Matrix {'TN': 9761, 'TP': 55, 'FN': 45, 'FP': 239}\n"
     ]
    }
   ],
   "source": [
    "#Confusion Matrix\n",
    "Confusion_Matrix = confusion_matrix(df_b)\n",
    "print(\"Confusion_Matrix\",Confusion_Matrix)"
   ]
  },
  {
   "cell_type": "code",
   "execution_count": 63,
   "metadata": {
    "colab": {
     "base_uri": "https://localhost:8080/"
    },
    "id": "xv3Q28hrnm_Q",
    "outputId": "3ba3b471-8d4c-4de7-c05c-1eb462deb2d7"
   },
   "outputs": [
    {
     "name": "stdout",
     "output_type": "stream",
     "text": [
      "F1 Score is : 0.27918781725888325\n"
     ]
    }
   ],
   "source": [
    "#F1 Score\n",
    "print(\"F1 Score is :\", F1_Score(df_b))"
   ]
  },
  {
   "cell_type": "code",
   "execution_count": 64,
   "metadata": {
    "colab": {
     "base_uri": "https://localhost:8080/"
    },
    "id": "2X1lq1VZotL7",
    "outputId": "c13f95eb-a59a-438a-8419-8942a87b65ce"
   },
   "outputs": [
    {
     "name": "stdout",
     "output_type": "stream",
     "text": [
      "Accuracy Score :  0.9718811881188119\n"
     ]
    }
   ],
   "source": [
    "#Accuracy Score\n",
    "Accuracy_Score = (Confusion_Matrix['TP']+Confusion_Matrix['TN'])/(Confusion_Matrix['TP'] + Confusion_Matrix['TN'] + Confusion_Matrix['FP'] + Confusion_Matrix['FN'])\n",
    "print(\"Accuracy Score : \", Accuracy_Score)"
   ]
  },
  {
   "cell_type": "code",
   "execution_count": 66,
   "metadata": {
    "colab": {
     "base_uri": "https://localhost:8080/",
     "height": 203
    },
    "id": "UiRQxVNRNsds",
    "outputId": "f7437452-97e6-4469-ddb7-de91001464d3"
   },
   "outputs": [
    {
     "data": {
      "text/html": [
       "<div>\n",
       "<style scoped>\n",
       "    .dataframe tbody tr th:only-of-type {\n",
       "        vertical-align: middle;\n",
       "    }\n",
       "\n",
       "    .dataframe tbody tr th {\n",
       "        vertical-align: top;\n",
       "    }\n",
       "\n",
       "    .dataframe thead th {\n",
       "        text-align: right;\n",
       "    }\n",
       "</style>\n",
       "<table border=\"1\" class=\"dataframe\">\n",
       "  <thead>\n",
       "    <tr style=\"text-align: right;\">\n",
       "      <th></th>\n",
       "      <th>y</th>\n",
       "      <th>proba</th>\n",
       "    </tr>\n",
       "  </thead>\n",
       "  <tbody>\n",
       "    <tr>\n",
       "      <th>8446</th>\n",
       "      <td>1.0</td>\n",
       "      <td>0.595294</td>\n",
       "    </tr>\n",
       "    <tr>\n",
       "      <th>1978</th>\n",
       "      <td>1.0</td>\n",
       "      <td>0.594808</td>\n",
       "    </tr>\n",
       "    <tr>\n",
       "      <th>1657</th>\n",
       "      <td>1.0</td>\n",
       "      <td>0.592198</td>\n",
       "    </tr>\n",
       "    <tr>\n",
       "      <th>110</th>\n",
       "      <td>1.0</td>\n",
       "      <td>0.590171</td>\n",
       "    </tr>\n",
       "    <tr>\n",
       "      <th>8578</th>\n",
       "      <td>1.0</td>\n",
       "      <td>0.588718</td>\n",
       "    </tr>\n",
       "  </tbody>\n",
       "</table>\n",
       "</div>"
      ],
      "text/plain": [
       "        y     proba\n",
       "8446  1.0  0.595294\n",
       "1978  1.0  0.594808\n",
       "1657  1.0  0.592198\n",
       "110   1.0  0.590171\n",
       "8578  1.0  0.588718"
      ]
     },
     "execution_count": 66,
     "metadata": {},
     "output_type": "execute_result"
    }
   ],
   "source": [
    "df_b=df_b.sort_values(by='proba',ascending=False)\n",
    "df_b = df_b.drop(columns=['ypred'])\n",
    "df_b.head(5)"
   ]
  },
  {
   "cell_type": "code",
   "execution_count": 67,
   "metadata": {
    "colab": {
     "base_uri": "https://localhost:8080/",
     "height": 116,
     "referenced_widgets": [
      "1ab6ee32dfd54120af963473ff3b9ab1",
      "3358054cfb864b75892cca320db2732b",
      "e3deb52199dc40d7b200a442e077bfe2",
      "929cec76c0c54592b7d2ae2390571125",
      "fba17bc8d93c4c4db26378100a1c9a5a",
      "e6c60e6ec3434f1e8d0b01090c38a80e",
      "894556b5118b4b74905b5ec7adf5c138",
      "355fbad68d4c41f19918b90369a71393",
      "692af94b96d24ccba2eddc90fc4f2ca1",
      "aeceeda9eb224dc69f23e0668e2d547b",
      "7c20a9b2f36f4815872693b24198f241"
     ]
    },
    "id": "G_WPPyt0NwF9",
    "outputId": "332bf84f-035a-472f-ffdf-bbcbfda84650"
   },
   "outputs": [
    {
     "name": "stderr",
     "output_type": "stream",
     "text": [
      "/usr/local/lib/python3.7/dist-packages/ipykernel_launcher.py:8: TqdmDeprecationWarning: This function will be removed in tqdm==5.0.0\n",
      "Please use `tqdm.notebook.tqdm` instead of `tqdm.tqdm_notebook`\n",
      "  \n"
     ]
    },
    {
     "data": {
      "application/vnd.jupyter.widget-view+json": {
       "model_id": "1ab6ee32dfd54120af963473ff3b9ab1",
       "version_major": 2,
       "version_minor": 0
      },
      "text/plain": [
       "  0%|          | 0/10100 [00:00<?, ?it/s]"
      ]
     },
     "metadata": {},
     "output_type": "display_data"
    },
    {
     "name": "stdout",
     "output_type": "stream",
     "text": [
      "AUC Score : 0.9377570000000001\n"
     ]
    }
   ],
   "source": [
    "AUC_score=AUC_Score(df_b)\n",
    "print ('AUC Score :',AUC_score)"
   ]
  },
  {
   "cell_type": "markdown",
   "metadata": {
    "id": "GiPGonTzQvoB"
   },
   "source": [
    "<font color='red'><b>C.</b></font> Compute the best threshold (similarly to ROC curve computation) of probability which gives lowest values of metric <b>A</b> for the given data <strong>5_c.csv</strong>\n",
    "<br>\n",
    "\n",
    "you will be predicting label of a data points like this: $y^{pred}= \\text{[0 if y_score < threshold  else 1]}$\n",
    "\n",
    "$ A = 500 \\times \\text{number of false negative} + 100 \\times \\text{numebr of false positive}$\n",
    "\n",
    "<pre>\n",
    "   <b>Note 1:</b> in this data you can see number of negative points > number of positive points\n",
    "   <b>Note 2:</b> use pandas or numpy to read the data from <b>5_c.csv</b>\n",
    "</pre>"
   ]
  },
  {
   "cell_type": "code",
   "execution_count": null,
   "metadata": {
    "colab": {
     "base_uri": "https://localhost:8080/",
     "height": 73,
     "resources": {
      "http://localhost:8080/nbextensions/google.colab/files.js": {
       "data": "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",
       "headers": [
        [
         "content-type",
         "application/javascript"
        ]
       ],
       "ok": true,
       "status": 200,
       "status_text": ""
      }
     }
    },
    "id": "x5HIJzq1QvoE",
    "outputId": "d623db70-08f9-429c-d022-475f60155d0a"
   },
   "outputs": [
    {
     "data": {
      "text/html": [
       "\n",
       "     <input type=\"file\" id=\"files-d787a427-149a-4514-bf4a-a5d7c8657240\" name=\"files[]\" multiple disabled\n",
       "        style=\"border:none\" />\n",
       "     <output id=\"result-d787a427-149a-4514-bf4a-a5d7c8657240\">\n",
       "      Upload widget is only available when the cell has been executed in the\n",
       "      current browser session. Please rerun this cell to enable.\n",
       "      </output>\n",
       "      <script src=\"/nbextensions/google.colab/files.js\"></script> "
      ],
      "text/plain": [
       "<IPython.core.display.HTML object>"
      ]
     },
     "metadata": {},
     "output_type": "display_data"
    },
    {
     "name": "stdout",
     "output_type": "stream",
     "text": [
      "Saving 5_c.csv to 5_c.csv\n"
     ]
    }
   ],
   "source": [
    "from google.colab import files\n",
    "uploaded = files.upload()"
   ]
  },
  {
   "cell_type": "code",
   "execution_count": null,
   "metadata": {
    "colab": {
     "base_uri": "https://localhost:8080/",
     "height": 203
    },
    "id": "0dkNFA4VibUr",
    "outputId": "f1b16935-a554-4825-f6a1-a4f46c2f1f5f"
   },
   "outputs": [
    {
     "data": {
      "text/html": [
       "<div>\n",
       "<style scoped>\n",
       "    .dataframe tbody tr th:only-of-type {\n",
       "        vertical-align: middle;\n",
       "    }\n",
       "\n",
       "    .dataframe tbody tr th {\n",
       "        vertical-align: top;\n",
       "    }\n",
       "\n",
       "    .dataframe thead th {\n",
       "        text-align: right;\n",
       "    }\n",
       "</style>\n",
       "<table border=\"1\" class=\"dataframe\">\n",
       "  <thead>\n",
       "    <tr style=\"text-align: right;\">\n",
       "      <th></th>\n",
       "      <th>y</th>\n",
       "      <th>prob</th>\n",
       "    </tr>\n",
       "  </thead>\n",
       "  <tbody>\n",
       "    <tr>\n",
       "      <th>0</th>\n",
       "      <td>0</td>\n",
       "      <td>0.458521</td>\n",
       "    </tr>\n",
       "    <tr>\n",
       "      <th>1</th>\n",
       "      <td>0</td>\n",
       "      <td>0.505037</td>\n",
       "    </tr>\n",
       "    <tr>\n",
       "      <th>2</th>\n",
       "      <td>0</td>\n",
       "      <td>0.418652</td>\n",
       "    </tr>\n",
       "    <tr>\n",
       "      <th>3</th>\n",
       "      <td>0</td>\n",
       "      <td>0.412057</td>\n",
       "    </tr>\n",
       "    <tr>\n",
       "      <th>4</th>\n",
       "      <td>0</td>\n",
       "      <td>0.375579</td>\n",
       "    </tr>\n",
       "  </tbody>\n",
       "</table>\n",
       "</div>"
      ],
      "text/plain": [
       "   y      prob\n",
       "0  0  0.458521\n",
       "1  0  0.505037\n",
       "2  0  0.418652\n",
       "3  0  0.412057\n",
       "4  0  0.375579"
      ]
     },
     "execution_count": 39,
     "metadata": {},
     "output_type": "execute_result"
    }
   ],
   "source": [
    "df_c = pd.read_csv('5_c.csv')\n",
    "df_c.head(5)"
   ]
  },
  {
   "cell_type": "code",
   "execution_count": null,
   "metadata": {
    "id": "4qLKAB3DZQMf"
   },
   "outputs": [],
   "source": [
    "def Metric(df):\n",
    "    V = df['y'].value_counts()\n",
    "    Positive = V[1]   \n",
    "    Negative = V[0] \n",
    "    metric = {} \n",
    "    for i in tqdm_notebook(df['prob']):\n",
    "        df['ypred']=df['prob'].apply(lambda x: 0 if x<i else 1)\n",
    "        Confusion_Matrix=confusion_matrix(df)\n",
    "        metric_val=(500*Confusion_Matrix['FN'])+(100*Confusion_Matrix['FP'])\n",
    "        metric[i]=metric_val\n",
    "        df.drop(columns=['ypred'])\n",
    "    return (metric)"
   ]
  },
  {
   "cell_type": "code",
   "execution_count": null,
   "metadata": {
    "colab": {
     "base_uri": "https://localhost:8080/",
     "height": 136,
     "referenced_widgets": [
      "00a285948a0a404f86d6dfd7a3f89477",
      "6c3d7cb7ae584927906cb1544abc0ad4",
      "bf5a7fe5af4d4209bd05fbf275ac5fc6",
      "19debeb9296948cbb7b8436eaa6195df",
      "306dc41c8ebc41c9ab4523bc6d883688",
      "370d25fc12a145fd98e2f1aa992d61c3",
      "69e73361c30948a69951e44d438e3bda",
      "53d81d7dc45b4a84870a3b046c140a65",
      "dacb0ef2570a462484a234f1f0b9fe3d",
      "8e673c161c7145578d9a2391171f3520",
      "4a440f7be94148b38633b19e47e0c36d"
     ]
    },
    "id": "kA6TQMEDZg26",
    "outputId": "042e2131-0b34-453d-8cbe-aebee7493367"
   },
   "outputs": [
    {
     "name": "stderr",
     "output_type": "stream",
     "text": [
      "/usr/local/lib/python3.7/dist-packages/ipykernel_launcher.py:6: TqdmDeprecationWarning: This function will be removed in tqdm==5.0.0\n",
      "Please use `tqdm.notebook.tqdm` instead of `tqdm.tqdm_notebook`\n",
      "  \n"
     ]
    },
    {
     "data": {
      "application/vnd.jupyter.widget-view+json": {
       "model_id": "00a285948a0a404f86d6dfd7a3f89477",
       "version_major": 2,
       "version_minor": 0
      },
      "text/plain": [
       "  0%|          | 0/2852 [00:00<?, ?it/s]"
      ]
     },
     "metadata": {},
     "output_type": "display_data"
    },
    {
     "name": "stdout",
     "output_type": "stream",
     "text": [
      "Minimum Metric {0.4585206750276927: 218300, 0.5050369299746849: 251400, 0.4186517353597525: 191700, 0.4120570264152579: 190200, 0.3755789967002096: 177600, 0.5953867683136785: 332500, 0.37028771014632395: 175600, 0.29927279820313324: 156300, 0.2969998411230139: 156600, 0.2664786236914428: 147400, 0.433484439914291: 200800, 0.32417011583173594: 158000, 0.3462788970083803: 166800, 0.4640729014535208: 223700, 0.4584919065237045: 218400, 0.5223481673243884: 270500, 0.4359086429750597: 202100, 0.2642664804651931: 147400, 0.2982231269817095: 156300, 0.10952916177543437: 164600, 0.3442102253839776: 165200, 0.3803290769055083: 178000, 0.2377088963985443: 143500, 0.30523614102118724: 156200, 0.2460492863445669: 142300, 0.21402403953913096: 145000, 0.3330128847344501: 160600, 0.33618806705281545: 161400, 0.4679821564539058: 226000, 0.3341740887310054: 161300, 0.4439055442407325: 208000, 0.3960290241080362: 184800, 0.4081223256684639: 188800, 0.409814440116689: 190200, 0.1640496729193507: 152200, 0.24198268394212466: 142200, 0.2414712156798389: 142700, 0.3309955339174013: 160100, 0.4547231370532835: 217000, 0.4746254348271602: 230500, 0.17950767238397858: 150100, 0.3970459876833735: 185800, 0.30987404367408233: 156400, 0.3768886411310853: 178200, 0.3742399908400871: 177200, 0.357775778383822: 169500, 0.6092117315007223: 347200, 0.5959724699323241: 332900, 0.5395937125022348: 286000, 0.2231077253818512: 143200, 0.25123469682561383: 141900, 0.32810256287858297: 158400, 0.28865235762016195: 154300, 0.16493119581325633: 152600, 0.323688039908538: 158200, 0.16504990893441274: 153500, 0.13943077100289836: 158100, 0.4236389512347208: 193800, 0.14167315734399333: 157500, 0.11909147211023274: 163700, 0.23893552213101776: 142600, 0.28860537768215744: 153900, 0.21260607041217186: 144800, 0.3427262382732855: 164000, 0.12229798754324785: 162100, 0.2799835143661177: 152900, 0.2056480062168997: 145600, 0.13467109283885434: 158900, 0.2217944616804252: 144100, 0.4962908700108528: 247300, 0.1988251668375891: 148400, 0.1999215809880076: 147300, 0.2421244461391423: 142000, 0.13102752775759308: 159500, 0.586076814781975: 326600, 0.18115453683846705: 149300, 0.2618446672284925: 146600, 0.1589170549366925: 154700, 0.31061932122385183: 155900, 0.17374223873421954: 150000, 0.17154161752881225: 149700, 0.4636980722079406: 223400, 0.17086734965040873: 150100, 0.2015460757790385: 146900, 0.3182729941767615: 157800, 0.1248694859646462: 161300, 0.41880065041619374: 192000, 0.14684297587420492: 157000, 0.13939239044447205: 158200, 0.2729622480031606: 150500, 0.14792912715190165: 156500, 0.08350819188195302: 167500, 0.09045639553585573: 167200, 0.2026244748283077: 146300, 0.16824316414626872: 151500, 0.13084290961961487: 159700, 0.1611708620110074: 153900, 0.3151122750462713: 157700, 0.17821204179042094: 149700, 0.09692456593384613: 165800, 0.37435218762304334: 177600, 0.08300706180366313: 167800, 0.1860311595169274: 148400, 0.24991044039661825: 141700, 0.3879938375305485: 182600, 0.6347408845416598: 365900, 0.16612962291047384: 152700, 0.30153935664408915: 155300, 0.10983786228540783: 164400, 0.248736326758926: 142200, 0.2778601964583268: 153200, 0.12250489801973907: 162400, 0.31164730964480225: 155700, 0.2274311370140797: 142100, 0.08550709324914052: 167200, 0.3753952569252735: 177800, 0.4072744250297545: 188600, 0.2838518643701399: 154600, 0.22186204348061533: 143900, 0.3823789841419941: 179900, 0.18074491861704234: 149600, 0.3021187911162505: 155400, 0.10706934413394407: 164900, 0.5273029548493591: 275500, 0.5898246461072484: 330200, 0.2276817999176077: 141700, 0.26311024540179484: 147800, 0.1340130905847292: 158800, 0.3582074573716601: 169900, 0.3133584349542051: 156100, 0.3625786332665263: 172400, 0.18630265545200653: 148300, 0.10331140136396566: 166700, 0.06666248553508036: 172400, 0.1786096168530954: 150600, 0.1837390677348988: 148500, 0.23501835461403875: 142300, 0.15474229547623042: 156700, 0.2211556418521984: 144400, 0.19763954346244395: 147600, 0.06814094008626159: 171800, 0.2894296863594571: 153700, 0.12171334511524926: 162700, 0.3215277197997313: 157700, 0.14085201637164968: 157500, 0.08128021697740295: 168700, 0.240341571537224: 143100, 0.09875452921197224: 165800, 0.08044431741173208: 169100, 0.10898157229294647: 164700, 0.12098241980011405: 162700, 0.08207672351115458: 168300, 0.16582982846208516: 153100, 0.3456078542245401: 166000, 0.1499616209719632: 157100, 0.6865247802154437: 409800, 0.6966178896459374: 421200, 0.26392795830159577: 147600, 0.2361778922983117: 142900, 0.6297242013183799: 362500, 0.21408070341960805: 144900, 0.12504784642039124: 160900, 0.2332162800672893: 142400, 0.6430205523565009: 372000, 0.1509768431251114: 157400, 0.2657880863627872: 147800, 0.07497620904767832: 169800, 0.07031473920151997: 171300, 0.17896701033050955: 150400, 0.09752852530092804: 165600, 0.11825299263000487: 164000, 0.2499018194707664: 141800, 0.2428167500608677: 141800, 0.23277569300419576: 142900, 0.08275668282766603: 168000, 0.2712491500015194: 149000, 0.5008305633390272: 248800, 0.32802513362588104: 158500, 0.20891884694228305: 145400, 0.3834793503220016: 180000, 0.2612742000334972: 146300, 0.12493957216675222: 161000, 0.2621630450358262: 147000, 0.1111802128521172: 164500, 0.2927269250959963: 155800, 0.4104209820160993: 190600, 0.4509599603511192: 214000, 0.2914212684373598: 155700, 0.04183853639138714: 177200, 0.2173565078426052: 144900, 0.27922940254211426: 153200, 0.22288378670408915: 143500, 0.2617536461031115: 146700, 0.16978273198411276: 150800, 0.5765585273101523: 320700, 0.2576003006181201: 143500, 0.15619324510161936: 156300, 0.13421658648026955: 158700, 0.39592524678320495: 185000, 0.26071821757265035: 145600, 0.2328848854915516: 142800, 0.2191678809153067: 143900, 0.1866929482769321: 148500, 0.12552109119054433: 160500, 0.2989373124531798: 156800, 0.2778749530379837: 153100, 0.24368757281351736: 141900, 0.31322382108585256: 156200, 0.3829499628092792: 179700, 0.2509648336752041: 142100, 0.2921023787678899: 155500, 0.0906645816725653: 167100, 0.41145013997683655: 190300, 0.2991393168230314: 156500, 0.3019522076120248: 155500, 0.2842296949914984: 154300, 0.5970267490357966: 334800, 0.3958715812580006: 185100, 0.14810437447315938: 157400, 0.1121065197764216: 164200, 0.13736679747297953: 157700, 0.3823444150589608: 180000, 0.3911630756951667: 184400, 0.2659828952840857: 147600, 0.4963180966473914: 247200, 0.2444596878580145: 142200, 0.1734241770731436: 150300, 0.09937201963888632: 166200, 0.19223295675741656: 148300, 0.17640196310507286: 149600, 0.3860470354557037: 182200, 0.16133919277706665: 153600, 0.18552605042586456: 148700, 0.3258308848819217: 157700, 0.2790748919989612: 153300, 0.05302357029270477: 174600, 0.12750821178023874: 160200, 0.15255927072988973: 156300, 0.1792634612805134: 150200, 0.08160376387673451: 168500, 0.3692315156395369: 175000, 0.2416539836574245: 142500, 0.20926591190131927: 145100, 0.19061748401538747: 149200, 0.14339963487676674: 156700, 0.2651782398288315: 147600, 0.5656378941761481: 307800, 0.30738975429857096: 156500, 0.12875270199131314: 159900, 0.4167999800395321: 190800, 0.0950260629525056: 166800, 0.2188415656218657: 144100, 0.19268373379836207: 148100, 0.12271103987822662: 162300, 0.3850086073617678: 181400, 0.3606092736527726: 171600, 0.12697051787698588: 160400, 0.0966329816225413: 166000, 0.1064312055304244: 165100, 0.3735915678175721: 177100, 0.5879070577589239: 328000, 0.1497969885130186: 157200, 0.3104930650946256: 156000, 0.15037251646454275: 157300, 0.1575963650200818: 155700, 0.2392788050142495: 142300, 0.4372832380436562: 202200, 0.1639860256298168: 152300, 0.2026339994894492: 146200, 0.2033847699294219: 145900, 0.26237564392991963: 146900, 0.249532466804659: 141900, 0.1062489071407834: 165200, 0.08095229235855306: 168900, 0.3537562618384489: 168300, 0.07697058771107645: 169500, 0.10477415613225992: 165600, 0.3411547259704487: 163700, 0.2625795385322055: 146600, 0.2894906923174858: 153600, 0.1968907649452621: 146900, 0.13450538145529256: 159100, 0.1582184055367032: 155200, 0.12819240141559296: 159800, 0.18321334107502085: 149000, 0.25237253549936656: 142000, 0.2484371412444759: 142300, 0.32898031054316346: 159600, 0.13545732723700032: 158500, 0.3922687599787841: 183700, 0.35574200507756826: 169300, 0.3133600825393522: 156000, 0.24947678881722524: 142000, 0.1431597978682131: 156800, 0.19801679414671824: 147500, 0.6409338114632143: 371200, 0.18683950965468946: 148900, 0.12599934275085867: 160300, 0.2954015941233248: 156500, 0.4864828530195597: 238200, 0.15027094692797272: 157400, 0.1051463823060732: 165500, 0.37979448586702347: 178300, 0.2290180712132841: 141600, 0.3212425708770752: 157900, 0.33544729670157303: 161200, 0.2990825146033957: 156600, 0.25954333269918284: 145000, 0.3764521834012624: 177500, 0.2270598041044699: 142200, 0.16449715640093832: 152400, 0.4297267351601575: 198600, 0.2346994707713256: 142000, 0.1463846882452836: 157200, 0.2719195879794456: 149800, 0.13603459822164998: 158100, 0.1214953081027882: 162500, 0.3179101911751: 158100, 0.4716513475050798: 226900, 0.046959301909884836: 175900, 0.14530458401989288: 156800, 0.3668284045683371: 173300, 0.09749092443569284: 165700, 0.275820880322843: 151400, 0.2332809124443982: 142300, 0.12384306901210065: 161500, 0.17063796198045889: 150200, 0.08912072189756337: 166800, 0.17571705096476786: 149400, 0.14783490831787527: 156700, 0.17221696312363088: 149800, 0.17393800052436625: 149700, 0.20690523208798586: 145700, 0.10392411898922273: 166500, 0.07561412131464162: 169600, 0.2370295993782379: 142700, 0.04833235933973978: 175700, 0.1921908629907144: 148400, 0.43677448340364394: 202300, 0.19444640826534576: 147200, 0.06004191854515595: 172900, 0.12804694795930704: 160000, 0.2245263763376184: 143000, 0.2399480020677721: 142900, 0.18329017790588176: 148900, 0.039494978414999486: 177700, 0.2964121377145922: 156000, 0.03497270474562775: 179100, 0.09678451273892373: 165900, 0.16319866981860753: 152700, 0.14460293505642866: 156900, 0.18701631716779765: 148700, 0.1174713373184204: 164300, 0.1252124551180247: 160800, 0.1857149359342214: 148600, 0.15546452515834086: 156800, 0.13590392389812989: 158200, 0.1818808687699808: 149500, 0.2900460402707796: 154200, 0.20122232872086604: 147100, 0.2295655543739731: 141400, 0.2239378304094881: 143200, 0.07529088613149283: 169700, 0.20911705332833366: 145300, 0.15615229832159505: 156400, 0.07309347713315806: 170600, 0.16555165600132293: 153300, 0.06119591642070465: 172700, 0.15639999508857727: 156200, 0.07325649100380971: 170400, 0.03280642064842021: 179700, 0.1971758571830956: 146700, 0.058470131577672224: 173200, 0.06896826383229847: 171700, 0.06561692018766663: 172500, 0.060761864120895785: 172800, 0.1500665827377422: 157000, 0.04473151226301453: 176300, 0.4710829992954796: 226500, 0.2359332861127081: 143000, 0.17120141274220235: 150000, 0.044732654416883344: 176200, 0.3209311384204272: 158000, 0.04315025419802277: 177000, 0.05701982652818838: 173900, 0.23579942374616056: 143100, 0.17133375357937164: 149900, 0.0672174337747935: 172100, 0.050461997856964924: 175300, 0.22356196593593905: 142900, 0.23178435016322785: 142700, 0.2857588839692038: 154400, 0.1740644630548116: 149600, 0.0787039004467629: 169200, 0.18757570071800334: 148200, 0.10433987346855368: 165900, 0.06693784610645193: 172300, 0.3115690559954256: 155900, 0.10769675390140432: 165200, 0.040876145298416544: 177400, 0.06247183922174815: 173200, 0.1774764640911205: 149700, 0.2634145069766689: 147700, 0.17008670036857187: 150400, 0.12410332786070333: 161300, 0.08887404686695821: 166900, 0.0539163471879186: 174500, 0.043861522867872926: 176800, 0.035116785281413265: 179000, 0.3188773256701392: 157500, 0.052498210120845434: 174900, 0.02839574137249512: 180400, 0.15214590768556335: 156400, 0.25558358591956065: 141900, 0.04466984239784444: 176400, 0.3316949984511813: 160600, 0.32892637760252563: 159700, 0.2986772479237737: 156400, 0.044495611577420664: 176500, 0.05893032293061951: 173000, 0.25513949426444804: 142100, 0.0979620186058251: 165400, 0.039080987105498455: 178000, 0.10547556587167684: 165400, 0.26041941193712725: 145500, 0.1547225367378544: 156800, 0.1322280587376775: 159100, 0.2647380943636637: 147700, 0.040924023937534686: 177300, 0.21977596468216665: 144200, 0.03691677789430359: 178700, 0.03984311303576904: 177600, 0.0527615772711264: 174700, 0.21479763090610504: 145400, 0.030268601469091494: 180200, 0.1034740837844642: 166600, 0.07424342310106435: 170100, 0.1129476621344283: 164000, 0.03703610639314392: 178600, 0.05831332786663158: 173300, 0.20536180122478587: 145300, 0.05512689738660248: 174300, 0.03415431203068908: 179600, 0.03457194405633046: 179400, 0.04382452288189453: 176900, 0.03191340452915914: 179800, 0.05080466979258769: 175200, 0.1568929005313564: 156000, 0.14166476275469808: 157700, 0.2020527490892926: 146500, 0.038856311424358525: 178300, 0.03439654530705627: 179500, 0.138599651890832: 158400, 0.028963660871660364: 180300, 0.16411016599552053: 152100, 0.250430778071687: 141900, 0.10425106738064738: 166000, 0.038969325052725316: 178200, 0.2845496974281363: 154200, 0.04406174131341878: 176700, 0.040313717481252336: 177500, 0.15759791312990967: 155600, 0.034717339116173807: 179300, 0.0394396926905658: 177800, 0.03495223941029724: 179200, 0.2119883178053676: 144600, 0.03914926019874776: 177900, 0.0311139870334316: 180100, 0.10724070587673706: 165300, 0.05721124281754364: 173800, 0.3590775758430764: 169700, 0.05799217159683645: 173400, 0.02803798623987141: 180500, 0.2469540012849344: 143100, 0.16892474627978096: 151200, 0.03595502473212575: 178900, 0.1742146276944393: 150000, 0.06268693788631541: 173000, 0.044491326486742144: 176600, 0.4210057387480864: 193200, 0.18878551310784109: 148500, 0.1516646388414744: 156900, 0.12181215189598706: 162500, 0.13031583541148414: 159800, 0.16786706125414053: 151800, 0.0847861734596459: 167300, 0.16961525420884827: 151000, 0.03647150703378621: 178800, 0.372149823485194: 175800, 0.09476384601077514: 167000, 0.2660493778215872: 147500, 0.17239550642065105: 149700, 0.2563012061086861: 142500, 0.09501321895702464: 166900, 0.26704351624121536: 149100, 0.1964895286270089: 147200, 0.06953443385459279: 171500, 0.2267300196596093: 142700, 0.0428343334713498: 177100, 0.2911188948798824: 155800, 0.16742079614384753: 151900, 0.3522570648708859: 167800, 0.13640781995412465: 157800, 0.2377404143681397: 143400, 0.2101788979929846: 145300, 0.34742927631816345: 167000, 0.2781140043123348: 153000, 0.19380925394393306: 147800, 0.03880058591430247: 178400, 0.24026737825290576: 142800, 0.1283634160016034: 160100, 0.275596680270659: 151600, 0.12564401691024366: 160400, 0.16444317875681702: 152500, 0.1041758253767684: 166100, 0.17324352586591565: 150400, 0.03139788556743317: 180000, 0.13513585200180878: 158600, 0.05575690801079214: 174100, 0.23778964055551066: 143300, 0.14156830149727895: 157800, 0.2535378618820293: 141800, 0.20193206297384725: 146600, 0.08044619012523346: 169000, 0.23696403608128835: 142900, 0.1942063215616588: 147500, 0.2390701271392204: 142400, 0.4381857349260433: 203600, 0.5376602101164896: 285200, 0.12383976820352915: 161600, 0.11987584990424086: 163300, 0.12669928331632874: 160600, 0.2445392495877033: 142100, 0.2404041338611293: 143000, 0.1477927428645056: 156800, 0.07458699474463593: 169900, 0.05638869227589782: 174000, 0.3360536102507565: 161000, 0.2762829484166326: 152300, 0.2342289307632962: 142200, 0.35459868106487635: 168700, 0.1325161005999591: 159000, 0.2839107320115373: 154500, 0.16869389688646474: 151400, 0.11046920918129588: 164300, 0.2706812507397419: 149000, 0.3000593286108326: 155800, 0.2553501809770996: 142000, 0.16585682533882762: 153000, 0.18582838008532654: 148500, 0.1638552570665205: 152500, 0.4818452538267986: 236200, 0.31080079582091924: 156200, 0.18710866892659986: 148500, 0.1921571251508352: 148600, 0.4241275602095837: 194900, 0.2954108968779847: 156400, 0.1716368053410504: 149600, 0.21239498902011567: 145000, 0.2393692365369281: 142200, 0.2963131992398081: 156100, 0.06356962145985777: 172900, 0.2888532216484482: 154100, 0.2567628726765916: 143400, 0.14391998624479452: 156600, 0.3231991307960974: 158400, 0.2880650935946284: 153600, 0.30126994566337484: 155400, 0.19492446651329864: 146900, 0.16173121413669067: 153100, 0.1628948788385134: 152800, 0.3791362528462667: 178400, 0.1818371910501171: 149600, 0.09503315751617014: 166700, 0.512070926862794: 259000, 0.2606740197217142: 145200, 0.4336703208249968: 200700, 0.1287928497469103: 159700, 0.3390468818110388: 163700, 0.19119465723633766: 148800, 0.11491939908749348: 164600, 0.3561550241869849: 169100, 0.3612286913636569: 172400, 0.15683215051083954: 156100, 0.2867044778289022: 154000, 0.2474497451975539: 142900, 0.161477356343656: 153500, 0.33898050237346344: 163800, 0.28238306013313497: 153400, 0.236972824947254: 142800, 0.18995917165601567: 148800, 0.4885029939783586: 238700, 0.5095240149546314: 256700, 0.12331588123295754: 161900, 0.16537940824354014: 153400, 0.09264246837512867: 167300, 0.06259382415462189: 173100, 0.16200392310683787: 152900, 0.1270025791348638: 160300, 0.15062247418068553: 157100, 0.27988991302412913: 153000, 0.7253035937209387: 436300, 0.26046700211795604: 145300, 0.13664351282893006: 158000, 0.10070896470868906: 166500, 0.3395917816339312: 163600, 0.1748766641359072: 149800, 0.15814860769220296: 155400, 0.3302746172490958: 159800, 0.15793697334624626: 155500, 0.22508100077912616: 143300, 0.2314070044337092: 142800, 0.15529107483657634: 156900, 0.194235263644038: 147400, 0.06803879544541648: 172000, 0.32767155605393483: 158700, 0.15934457005681213: 154400, 0.04785382103275604: 175800, 0.3810912976796562: 178900, 0.18220466858631856: 149400, 0.15880171189437042: 154800, 0.20075749303843526: 147500, 0.21099024205594447: 145100, 0.2896565335827905: 154500, 0.17272204643971212: 150000, 0.21366094173611816: 144900, 0.073405567053202: 170200, 0.2570489548348092: 143300, 0.5122052173356753: 258900, 0.15976984758634827: 154100, 0.3015586629107192: 155100, 0.3278563157529444: 158600, 0.16196491186683235: 153000, 0.2269500189939061: 142500, 0.2629372795691361: 147900, 0.295881086305992: 156200, 0.467292653547751: 225800, 0.19908035043123606: 148100, 0.06519791725519541: 172600, 0.19639787802825104: 147300, 0.3776525015363822: 178400, 0.34631415043730995: 166700, 0.39153660350554703: 184000, 0.3113481301713634: 156000, 0.18037932225175798: 149700, 0.5845053818177532: 326400, 0.3230148288043769: 158500, 0.06193842275722605: 172900, 0.3713384097492373: 175700, 0.2274719122293833: 141900, 0.28753085635803843: 153700, 0.0770659092310313: 169400, 0.2340345624330881: 142300, 0.21426891475110446: 145200, 0.12898967636598124: 159400, 0.2741354059528661: 151300, 0.13087873603846578: 159600, 0.11345345265156515: 164400, 0.3693003521577733: 174900, 0.1721912179444287: 149900, 0.12783834579828626: 160100, 0.4190709433845572: 191900, 0.1637504155168662: 152600, 0.2512352590423983: 141800, 0.6172358309094971: 353000, 0.4070331031406248: 188900, 0.3506933111395385: 168400, 0.4763862462462606: 230900, 0.2368087929648321: 143000, 0.11757553751404225: 164200, 0.12198293531263192: 162400, 0.5296483015691912: 277400, 0.13918824856345713: 158300, 0.4880918522138853: 238800, 0.13213662118525116: 159200, 0.170038244208774: 150500, 0.25478729102257136: 142400, 0.1363595482465383: 158000, 0.3098422228484541: 156600, 0.1203723070589272: 163100, 0.1620395054688325: 152700, 0.07095866589932831: 170900, 0.3570385267202919: 169900, 0.33701202273368835: 162100, 0.2390292480185225: 142500, 0.3958106620891674: 185200, 0.414534132122188: 190100, 0.3152484144713428: 158100, 0.8794177496755445: 507600, 0.4274878940872244: 197400, 0.16797763995222148: 151700, 0.4726688736999357: 228100, 0.6080632542033453: 346800, 0.5922723746783025: 332000, 0.2261076714541461: 142900, 0.2595325805045463: 145100, 0.04926668308876658: 175600, 0.4270476698875427: 197000, 0.3166333676592724: 157400, 0.5204014538510426: 268100, 0.3252961877230052: 157500, 0.5915016926623679: 330600, 0.20832634737362726: 145500, 0.5186677811717665: 266900, 0.2183830540727925: 144400, 0.1777183792075595: 149500, 0.46034787987937803: 219300, 0.3836595198592624: 179800, 0.4265948848144429: 196800, 0.09600453602301108: 166200, 0.3450351770262461: 165600, 0.16625966252507385: 152500, 0.4161903868253166: 190000, 0.20765612294545044: 145800, 0.1590721216556188: 154600, 0.1286613280708725: 160000, 0.24032290159045044: 143200, 0.0832470349363379: 167700, 0.04686853370151002: 176000, 0.4546467484654607: 217100, 0.29536807516942154: 156600, 0.4249412421439145: 196300, 0.13344775663839806: 158800, 0.3009271549211966: 155600, 0.20437187318866312: 145400, 0.05180436856037862: 175000, 0.13291672274873068: 158900, 0.10456641864132232: 165700, 0.15348706374297272: 156600, 0.40795824414974935: 188900, 0.21142885330561045: 144900, 0.5059918990811786: 252800, 0.054473150420833234: 174400, 0.06998613235112783: 171400, 0.6161554383265005: 352600, 0.12640551054799876: 160200, 0.3559631608627938: 169200, 0.3250380971947232: 157600, 0.13993309840962698: 157800, 0.4389978175026339: 205700, 0.12893514053241628: 159600, 0.4653364129968591: 224500, 0.1759363300091511: 149200, 0.4011711373522475: 187700, 0.16171157803084402: 153200, 0.7425734644403329: 442400, 0.11908797476742715: 163800, 0.542637353813326: 287300, 0.09755571629550007: 165500, 0.07320429344434998: 170500, 0.15477133280522115: 156600, 0.10886629046620544: 164900, 0.2015388736853728: 147000, 0.34889459690532165: 167800, 0.17643914955693318: 149500, 0.4314824417233467: 200100, 0.3870805385144981: 181900, 0.35274246818310506: 167700, 0.17061537826383433: 150300, 0.299235892054197: 156400, 0.12050113404119335: 162800, 0.22172006159215368: 144200, 0.08254780962660503: 168200, 0.3153075650334358: 158000, 0.12824085676992258: 160200, 0.18746788840036133: 148300, 0.15364554403601471: 156500, 0.12382856816858855: 161700, 0.15213267545442322: 156500, 0.05000899047464935: 175500, 0.06187382904258931: 173000, 0.5779247130896594: 322400, 0.12039133181443085: 163000, 0.3513176012280825: 168100, 0.11463292547174395: 164700, 0.2983210054603783: 156100, 0.1357138833484134: 158400, 0.05755217494191345: 173600, 0.32197038225225505: 158400, 0.42684401028059626: 197100, 0.2579825315121058: 143900, 0.058473337340999236: 173100, 0.1726077102326058: 150100, 0.18365201756760885: 148600, 0.1612965545138797: 153700, 0.3425164484494442: 164200, 0.06810726507289988: 171900, 0.10793349388483407: 165100, 0.2887887076751606: 154200, 0.2051597769195969: 145000, 0.4467646627611405: 211100, 0.1690256370080484: 151100, 0.3098631227338636: 156500, 0.2144923733698355: 145500, 0.18413389695657267: 148300, 0.2551204550105173: 142200, 0.08328032976872213: 167600, 0.30791708746471924: 156900, 0.4376123114614874: 203000, 0.3683676303842584: 174600, 0.5925960810603322: 331900, 0.050217721913311975: 175400, 0.3191315769343763: 157400, 0.12039700069942992: 162900, 0.14085771868357788: 157400, 0.12483030074351542: 161600, 0.2432447148335947: 142100, 0.19410629691304385: 147600, 0.07177232085047547: 170700, 0.3082167022937053: 156800, 0.2902931973740861: 154100, 0.5353316829816714: 283900, 0.5659139675868524: 308200, 0.3034431652442829: 156100, 0.12220690701458906: 162200, 0.22987164436159915: 141100, 0.3740670344716793: 177300, 0.32899460136084946: 159500, 0.5492407949389638: 291800, 0.2046489038982907: 145200, 0.3090199952995455: 156500, 0.3596925626735429: 171300, 0.5225063872498434: 270900, 0.3150482258281192: 157800, 0.15106577244964806: 157300, 0.28927617842281184: 153800, 0.11803610904796702: 164100, 0.29398098346349355: 155600, 0.43151298427098506: 200000, 0.3116220235824585: 155800, 0.2704915033804404: 149200, 0.2995787436092222: 156200, 0.1736622436626537: 150100, 0.17620166169630513: 150000, 0.4194210018660571: 192800, 0.5077214261164537: 255200, 0.241648317390197: 142600, 0.4128648485686328: 189800, 0.2659293380943505: 147700, 0.1417954274126001: 157300, 0.5775364893111024: 322000, 0.20563985850359945: 145700, 0.22289504714914266: 143400, 0.6336784217808697: 365200, 0.09592387321833018: 166300, 0.13169759350853993: 159400, 0.2817370011597067: 153500, 0.3183354674964338: 157700, 0.5250032443452526: 274200, 0.2602195868621001: 145200, 0.23289227767570606: 142600, 0.5241263476577964: 272800, 0.217318328449855: 145100, 0.3128446864115225: 156000, 0.15192230005522034: 156800, 0.17879292610529307: 150500, 0.4008086456640346: 187800, 0.20088615651066244: 147400, 0.1289373467097411: 159500, 0.25002762775968856: 141600, 0.4842378072239257: 237300, 0.2861662341936214: 154200, 0.2571791104368262: 143200, 0.2599433016132664: 145300, 0.3026356270184388: 155800, 0.22981914032149964: 141200, 0.20931634548548106: 145000, 0.2847092054985665: 154100, 0.11426163203007468: 164300, 0.2995794365132177: 156100, 0.2624827075648952: 146800, 0.27243479200311604: 150600, 0.3015477902985908: 155200, 0.2333601616524361: 142200, 0.2889641966368701: 154000, 0.2607552763578054: 146000, 0.13500045924573334: 158700, 0.3439492953790201: 165300, 0.1781219525917156: 149800, 0.3528164516429644: 167500, 0.2136886389674368: 144800, 0.3041660809839094: 156400, 0.4147639830370207: 190000, 0.30991934843965474: 156300, 0.30845530351271505: 156700, 0.08276099006871918: 167900, 0.10244154366287027: 166800, 0.186428068457423: 148200, 0.15513972374233045: 157000, 0.22586153528174835: 143000, 0.20022670078921967: 147700, 0.11934012818980864: 163500, 0.18248473953556368: 149200, 0.13384746860813446: 158400, 0.13369476956290172: 158500, 0.20401303832595408: 145700, 0.2269401356980607: 142600, 0.1763311270120982: 149700, 0.6425253426706469: 371100, 0.2160031980759388: 145500, 0.1615767615872461: 153400, 0.25094536792587585: 142200, 0.1925634608880894: 148200, 0.18660549779196045: 148600, 0.1662079784515742: 152600, 0.2689944183504259: 148300, 0.1540935289215397: 156400, 0.3129932074933439: 155800, 0.04522225824562276: 176100, 0.1149367835070636: 164500, 0.16288092490789052: 152900, 0.08168692202181428: 168400, 0.24781970780443496: 142700, 0.21431667538913526: 145100, 0.265665021297094: 147900, 0.3384409925422153: 163400, 0.158171982378573: 155300, 0.26519538502435425: 147500, 0.3155279697195904: 157900, 0.09621264000196716: 166100, 0.12808013042888122: 159900, 0.1908992561134132: 149100, 0.28131130015527883: 153100, 0.1995818937146986: 147700, 0.26724294552931915: 148900, 0.22629522471814545: 142800, 0.2252401951197032: 143200, 0.12123023738732208: 162600, 0.1927744407911558: 148000, 0.2037705972387984: 145800, 0.25374425746299123: 141700, 0.2337744042680069: 142400, 0.13751512443697134: 157600, 0.5587337818500158: 299600, 0.1119757053014394: 164400, 0.18704118358122326: 148600, 0.168034735563639: 151600, 0.18460444663022013: 148500, 0.18429826441648844: 148200, 0.09987396485096699: 166600, 0.2556635630694596: 142300, 0.06925229124120769: 171600, 0.13358607324394026: 158700, 0.08780608628247233: 167100, 0.4646217098107209: 223600, 0.06700123645163869: 172200, 0.6734445148927939: 399900, 0.21733153248960912: 145000, 0.22365974252288398: 142800, 0.06456430054999683: 172700, 0.1470102629548794: 156900, 0.16579701127232727: 153200, 0.18716017197112766: 148400, 0.2313558938535484: 142400, 0.18432063186490846: 148100, 0.7019758983137641: 425600, 0.16068346919240173: 154000, 0.3207402539414328: 158200, 0.5402143119356116: 285900, 0.06397404541840424: 172800, 0.5567440018057823: 297100, 0.15945276899917704: 154300, 0.3614289114201391: 172300, 0.240933498820743: 142900, 0.4763033096049283: 231000, 0.2062833792454487: 145400, 0.13653268201931099: 158200, 0.12152073834393473: 162400, 0.3180332421451002: 157900, 0.3965984550682273: 185000, 0.28398040289411675: 154400, 0.09290712105261313: 167100, 0.2872031033039093: 153900, 0.09565451499578116: 166500, 0.4863484227979506: 237400, 0.24738411726178344: 143000, 0.05548988484047557: 174200, 0.1921731620221525: 148500, 0.20726356514402333: 146000, 0.1089348809139149: 164800, 0.4532892325439969: 214200, 0.39232651990007705: 183600, 0.5094861130456667: 256800, 0.3457007488688907: 165900, 0.10408392306920644: 166200, 0.11925527050688454: 163600, 0.29089865893931: 155900, 0.6558056663017016: 384100, 0.37184566380204376: 176100, 0.17682390519090596: 149900, 0.4260741512517672: 196400, 0.4720683528764827: 227300, 0.07047800276730509: 171200, 0.1416670430350948: 157600, 0.3383510483277811: 163000, 0.2077478283160442: 145700, 0.3825468622349404: 179800, 0.23829226155538816: 142900, 0.4107507277984877: 190400, 0.07330073375959656: 170300, 0.07130287627916078: 170800, 0.4109131464281598: 190700, 0.671621621460528: 397000, 0.2336263890201981: 142000, 0.3309149089697245: 160200, 0.39680140123173996: 184900, 0.37373826833995616: 177500, 0.22085051359357047: 144500, 0.19465923953700714: 147100, 0.12017608333278353: 163200, 0.4695343761830717: 226100, 0.31758647915479304: 157700, 0.3529305533581489: 167400, 0.3510681032328993: 168200, 0.32875313227241104: 159800, 0.12488278988245373: 161200, 0.22705148643738515: 142300, 0.2029202628780056: 146000, 0.3300407095938116: 159900, 0.11224976745811666: 164100, 0.10085805203463584: 166400, 0.2126573823593758: 145200, 0.35968164334426056: 170900, 0.08146481578414501: 168600, 0.1848669285709793: 148400, 0.15585829116202687: 156500, 0.3780299066691786: 178200, 0.5973986894697756: 334700, 0.329162448241904: 159900, 0.19951369794639384: 147800, 0.44546707578607503: 210000, 0.2232462667130135: 143000, 0.09508893457618917: 166600, 0.22554128959372235: 143100, 0.051177788425136206: 175100, 0.3659459122934857: 173500, 0.5946194916158111: 332700, 0.4901300566019239: 241000, 0.1367049716614388: 157900, 0.05741821269731263: 173700, 0.4458599763142096: 209800, 0.17151241648841553: 149800, 0.16164054258449656: 153300, 0.2545704334168821: 142500, 0.262676794786711: 147500, 0.20182128854700032: 146700, 0.3927967053007435: 183400, 0.15206258361404: 156700, 0.468885670239861: 226400, 0.212469976093318: 144900, 0.09574791225227153: 166400, 0.3720340412613508: 175900, 0.19899364500432404: 148200, 0.4818415218913877: 236300, 0.33262039882105754: 160300, 0.4164797591196524: 190400, 0.21654135149878428: 145400, 0.12176031518626862: 162600, 0.12437927722930907: 161200, 0.2373539072436255: 143100, 0.2330460790041331: 142500, 0.3229430253441269: 158600, 0.42074616132555787: 193300, 0.2296094378909549: 141300, 0.2604333283127965: 145400, 0.1269036644213909: 160500, 0.07074035019487945: 171000, 0.4317737493563343: 200300, 0.358777879863172: 169800, 0.457142593892845: 218100, 0.13362585692792328: 158600, 0.16249587568076884: 152600, 0.2357348932607753: 143200, 0.11892605391708574: 163900, 0.26852728788917124: 148400, 0.2946567090379225: 155500, 0.5023193415757772: 250500, 0.2982443983893137: 156200, 0.4285342916846275: 198200, 0.10671640409005656: 165000, 0.4844860968154829: 237200, 0.062039966518814486: 173300, 0.10883122521477773: 165000, 0.41102566288129705: 190600, 0.3158747642426878: 157700, 0.33593183594780995: 161100, 0.1421736478805542: 157200, 0.3698146010975581: 175700, 0.6279175855420731: 361200, 0.08448199806986634: 167400, 0.3619569600433916: 172600, 0.19596049632575066: 147500, 0.17612284180280324: 149600, 0.32377989127023804: 158100, 0.1505204721077068: 157200, 0.3009875489247812: 155500, 0.5540935840155627: 294400, 0.6347151133861091: 366000, 0.17562259210122594: 149600, 0.5077660188481614: 255100, 0.2384043694347948: 142800, 0.7435600724373315: 443300, 0.33364617170111555: 160900, 0.6011565686077684: 339600, 0.3790185185703071: 178500, 0.3913037644044773: 184200, 0.469016227770496: 226200, 0.39132761753894185: 184100, 0.5816470995746754: 323600, 0.4228617790583018: 194100, 0.31949459902338084: 158300, 0.2276558819654826: 141800, 0.17624713762386424: 149800, 0.6233522722849975: 357500, 0.03816142114433085: 178500, 0.5023418060831122: 250400, 0.4794853921677616: 233100, 0.5093797419119526: 256900, 0.09285928268690367: 167200, 0.10397155361401067: 166400, 0.11514616818041412: 164400, 0.16484773602034594: 152700, 0.5043676801629968: 251500, 0.28975195175892604: 154400, 0.19538817776216044: 146700, 0.4352368229144329: 201900, 0.1439623961577544: 156500, 0.08102827136581002: 168800, 0.3876721927443065: 182700, 0.16702713676401082: 152100, 0.41373775939683655: 190200, 0.1381510109514803: 158000, 0.1620145568976531: 152800, 0.5033886911901269: 250800, 0.14260725717286804: 157000, 0.7712160294523109: 457500, 0.3654339760541916: 173700, 0.3179988973849529: 158000, 0.2681253641038328: 148600, 0.5016051415051963: 249600, 0.1569679363353832: 155900, 0.4763030679644765: 231100, 0.2365056936805313: 143200, 0.2428961653967161: 141700, 0.2455939247801497: 142500, 0.28111637363562714: 153200, 0.1909249984734768: 149000, 0.1659052380033441: 152800, 0.4757850907138877: 231300, 0.2646121841830176: 147800, 0.15715862448151052: 155800, 0.5583142177075953: 298700, 0.26717899135641154: 149000, 0.39169952031728383: 183800, 0.2904101710867237: 154000, 0.30536819007751104: 156100, 0.2713005059474224: 149400, 0.2999755514634622: 155900, 0.2590649699842608: 144800, 0.18237208997881094: 149300, 0.12492239153062976: 161100, 0.21892741715183128: 144000, 0.3245167647664612: 157900, 0.3418658295193234: 163500, 0.8119125434675732: 475800, 0.3326028098125715: 160400, 0.4384715572200917: 203400, 0.2363149052536165: 143300, 0.12289026137944815: 162200, 0.21029055843482147: 145200, 0.3164732504535366: 157500, 0.3096670758079838: 156800, 0.15871800925280602: 154900, 0.104345086458567: 165800, 0.4268212948699255: 197200, 0.7216013476655291: 433900, 0.4509559559660989: 214100, 0.18689322471618647: 148800, 0.13947014228717702: 158000, 0.1940710174070822: 147700, 0.3856099701008281: 182300, 0.2968597939691028: 156700, 0.4398818942340644: 205600, 0.25626285172797536: 142700, 0.2705280829120327: 149100, 0.30048522252488785: 155700, 0.6344507762507812: 366100, 0.03904342490273549: 178100, 0.20110624142595235: 147300, 0.13965850907403066: 157900, 0.4490255890665827: 212300, 0.3651420953305992: 173800, 0.44782194978482015: 212400, 0.5575401617868527: 298000, 0.4420743967230255: 207700, 0.22185373266001007: 144000, 0.6681477097240653: 394700, 0.4593424134560533: 218500, 0.4384447130802516: 203500, 0.4315382302612871: 199900, 0.5723683463560568: 315800, 0.17573533791142534: 149300, 0.4976551953602482: 247000, 0.3888348087265685: 182400, 0.13640631695051453: 157900, 0.17728044052381775: 149800, 0.3618752650312476: 172200, 0.2044129375670407: 145300, 0.11941625943055025: 163400, 0.3316109621444264: 160700, 0.2709482857907141: 149200, 0.32952334429766683: 159700, 0.21393791485477145: 145200, 0.2672983504630424: 148800, 0.6044347841997404: 342500, 0.13575245883013753: 158300, 0.2936458539318394: 155700, 0.3408040422442797: 163800, 0.3158265078389967: 157800, 0.4111689168053705: 190500, 0.2504869055103611: 141800, 0.21578444862687907: 145600, 0.1943757662902007: 147300, 0.5587592463235598: 299500, 0.2181375751624236: 144600, 0.1838756558057424: 148400, 0.3936602563874142: 184000, 0.14858620190942606: 157300, 0.16677489796200318: 152300, 0.2380759683815209: 143000, 0.35028591913145946: 168600, 0.2891233760762859: 153900, 0.1639515596467096: 152400, 0.18002256992700938: 149900, 0.38168176636099815: 179600, 0.4154623142770819: 189700, 0.2440750461977881: 141800, 0.6708333331185419: 396100, 0.1993062774071822: 147900, 0.3845203132242769: 180100, 0.4297941097536603: 198500, 0.23675289649415665: 143100, 0.32478841293502503: 157700, 0.3253084396993792: 157400, 0.28736400674726514: 153800, 0.31638606295392324: 157600, 0.5145184325205313: 262700, 0.3669243124691216: 173200, 0.16685919826095166: 152200, 0.19692794817524986: 146800, 0.463807640848933: 223300, 0.415685474268488: 190100, 0.22481446330611765: 143400, 0.3207159211506715: 158500, 0.5069244812066491: 254500, 0.4183133055229444: 191900, 0.3749061694016328: 177900, 0.1688160123051824: 151300, 0.17425892401385956: 149900, 0.26116695839005544: 146400, 0.35923501526987234: 169600, 0.13658468465547302: 158100, 0.15842601576366944: 155100, 0.2230984890783156: 143300, 0.2186419659772435: 144300, 0.2171258394782608: 145300, 0.2348440176731831: 142400, 0.2785047816263663: 153400, 0.3503447905988306: 168500, 0.19535473714003693: 146800, 0.12308207557008075: 162000, 0.222267429570894: 143700, 0.24775946704117024: 142800, 0.5669603774676452: 308600, 0.5127443695390547: 258800, 0.17353855234545634: 150200, 0.3709368423835652: 175400, 0.4765950715219652: 231300, 0.2378397394676465: 143200, 0.3600209210370038: 171700, 0.2178821136822572: 144800, 0.41048372234847097: 190500, 0.2079262693186064: 145600, 0.19959683676023746: 147600, 0.468915859086288: 226300, 0.4201711412217166: 193000, 0.15849900406760142: 155000, 0.35727092986171305: 169700, 0.20911948423127869: 145200, 0.3789931211519886: 178600, 0.3812570861867957: 178800, 0.2989411398365691: 156700, 0.4178295375124829: 191700, 0.4226858462836292: 193400, 0.5076398434671197: 255300, 0.32263285183423274: 158200, 0.3932433398188772: 184300, 0.32738445517984593: 157400, 0.4233931895043399: 193900, 0.2562677320596334: 142600, 0.2667916231864208: 148300, 0.39872288865012095: 186500, 0.18363738341911406: 148700, 0.12304904170938435: 162100, 0.2801907046421154: 152800, 0.2881943476763932: 153500, 0.4252811299787985: 196200, 0.1963254334153356: 147400, 0.388734837037486: 182500, 0.15212963239566699: 156600, 0.17003676698014547: 150600, 0.3554327979281142: 168900, 0.3516300634757893: 167900, 0.07832934727539886: 169300, 0.4863955885977358: 237800, 0.1937072518709544: 147900, 0.140020265772536: 157700, 0.4829533323645592: 236000, 0.2641725191796148: 147500, 0.489382556161365: 240100, 0.14070034188193248: 157600, 0.12152746722504905: 162300, 0.07067109443045949: 171100, 0.4147892183548695: 189900, 0.2548422281806534: 142300, 0.3595748187319653: 170500, 0.4747802790355038: 230400, 0.35092973870200084: 168300, 0.2592921945694331: 145200, 0.48672965430730103: 238500, 0.5705185804415394: 314400, 0.13484291289303751: 158800, 0.2421118923135705: 142100, 0.4876799937841054: 238900, 0.3576625134493854: 169600, 0.2194612533659548: 144300, 0.44129837827908025: 207300, 0.15572147836556305: 156600, 0.14309858792536967: 156900, 0.2318896119659012: 142600, 0.28340290446539185: 154200, 0.5065465706425745: 254100, 0.16589540202875394: 152900, 0.3185569523154078: 157600, 0.21537607424968: 145700, 0.32600854699676096: 157600, 0.3480372916202288: 167400, 0.4400397700232428: 205500, 0.19971534045966896: 147500, 0.2756896679465836: 151500, 0.2397757172584533: 142500, 0.2139942049980164: 145100, 0.2955293510411237: 156300, 0.2028373592608685: 146100, 0.5801848018088857: 323800, 0.3207270937996942: 158300, 0.4951597335370811: 246600, 0.4300570246335622: 198400, 0.4231903977893494: 194000, 0.25343506159009155: 141900, 0.1625943586633012: 153000, 0.4212564552152479: 193100, 0.4376028204286421: 203100, 0.4839876626391668: 236400, 0.09168827533721924: 166900, 0.4185957701222317: 191800, 0.17569589292680898: 149500, 0.3876061959041132: 182800, 0.3205666284303408: 158600, 0.5321051913338739: 281200, 0.4661387799156679: 224900, 0.3315796950781668: 160800, 0.19105559788845689: 148900, 0.4601019210106617: 219400, 0.4057334764180957: 189400, 0.4061770837854695: 189200, 0.3235099633803239: 158300, 0.4024503531085478: 189100, 0.33972260033762136: 164000, 0.6076488277396639: 345900, 0.44959238513901423: 213200, 0.379807631308968: 178200, 0.26768851300349106: 148700, 0.32760008927938106: 158300, 0.15134331181242655: 157100, 0.4240511567205996: 194500, 0.23343850833338664: 142100, 0.20522661990410573: 145400, 0.32549714216509384: 157300, 0.4258294327033533: 196100, 0.4550044997721106: 216900, 0.4760925423454594: 231200, 0.169627640295673: 150900, 0.3836473860853428: 179900, 0.3527942899916623: 167600, 0.21801447948893984: 144700, 0.5616919652030274: 302000, 0.4070600096035648: 188800, 0.3621811004909309: 172500, 0.22313210770890524: 143100, 0.5610308609902859: 301200, 0.37328623678233175: 176700, 0.4381638543831336: 203700, 0.31165131040521565: 155600, 0.4578867667430157: 218500, 0.2858590387009285: 154300, 0.2866135392640088: 154100, 0.4674753800437257: 225600, 0.4621718058714995: 221200, 0.2484357453681328: 142400, 0.2952499872929341: 156800, 0.2243206633909328: 143100, 0.3207239146168167: 158400, 0.4179203502229743: 191600, 0.3413468054621607: 163600, 0.1791912897213085: 150300, 0.35479187965393066: 168600, 0.5742222358648841: 317000, 0.12397998571395875: 161400, 0.4302700308931841: 198300, 0.3064314320280745: 157000, 0.3780168987609245: 178300, 0.6568353212866429: 384000, 0.2274401936982129: 142000, 0.6483531314376239: 377400, 0.2433625012636185: 142000, 0.4068435114380475: 189100, 0.21276199012189292: 145100, 0.20665029577306804: 145300, 0.24687068607356105: 143200, 0.7593903789246405: 454700, 0.3774328444253754: 178500, 0.5617943313476201: 301900, 0.30736458382091003: 156700, 0.2482967896235956: 142600, 0.4359985461106172: 202000, 0.34656100700030457: 166600, 0.5513110879707981: 292100, 0.13673822581768036: 157800, 0.380039506063268: 178100, 0.6510504965443868: 379700, 0.5592953424800087: 299900, 0.4026610416335028: 189500, 0.3962735392757364: 184600, 0.42272206939555496: 193300, 0.4303140297934816: 198200, 0.351577623571093: 168000, 0.3041390306442171: 156500, 0.21494125594963887: 145300, 0.2301521752331708: 141500, 0.1527695438346347: 156200, 0.3109402382695997: 156100, 0.12217650059107188: 162300, 0.7273360744521424: 437100, 0.3767338376995679: 177800, 0.43261005850257095: 201100, 0.1880073740675643: 148100, 0.3213782608509064: 157800, 0.5196161535946098: 267300, 0.4790719715324608: 233300, 0.1921514369346: 148700, 0.4443792543701224: 208300, 0.406889865930016: 189000, 0.10580492422387412: 165300, 0.5078766999413838: 255000, 0.3367637883167009: 161700, 0.3630191264925776: 172300, 0.32188935859783274: 158600, 0.32210904762551595: 158300, 0.3932604519902049: 184200, 0.376557828606786: 177400, 0.4351830091830846: 202000, 0.2214299053759188: 144300, 0.4339706996405447: 200600, 0.4179951178060996: 191500, 0.36513887023603603: 173900, 0.5335575040127779: 281500, 0.3896317520254368: 182600, 0.3849036053225801: 181500, 0.4586298425455351: 218100, 0.6191127171387544: 355300, 0.17955941042384582: 150000, 0.2540612156326706: 142100, 0.5100746535368867: 256600, 0.8342572198929014: 486700, 0.3972060752881539: 185700, 0.29510242270456777: 155900, 0.5614312955656567: 301100, 0.19568504030640066: 147100, 0.3208784791263374: 158100, 0.3710751887914296: 175300, 0.557868886235598: 298900, 0.4187375576914968: 192100, 0.4443563339678017: 208400, 0.4127740727083104: 190000, 0.6183633590872224: 354400, 0.26249975771517364: 146700, 0.4674129655232301: 225700, 0.2575567864082955: 143100, 0.5853245161675118: 326700, 0.4944511082124066: 246200, 0.2394206950793395: 142100, 0.3770993279444205: 178100, 0.2006738181855228: 147600, 0.10976657754666096: 164500, 0.28258930025873963: 154300, 0.8050209414717313: 472900, 0.4061395167498976: 189300, 0.2511520889159795: 142000, 0.4917783451241416: 243900, 0.2483768132892815: 142500, 0.30736917237172257: 156600, 0.40758445134034027: 189000, 0.14236528647912516: 157100, 0.6222693597948229: 356100, 0.18036684716070006: 149800, 0.3335644171850102: 161000, 0.5545608900688791: 295800, 0.17184791572996086: 149500, 0.29962695490669555: 156000, 0.09085666327863128: 167000, 0.2682570573445913: 148500, 0.2925162202603108: 155900, 0.34013360577660634: 163900, 0.407255568617099: 188700, 0.4782997617447698: 232000, 0.2020684013495574: 146400, 0.11089666147489807: 164700, 0.4330844850959005: 200900, 0.4631697309983743: 222500, 0.2425593137741089: 141900, 0.1255021739650417: 160600, 0.2501259844850849: 141500, 0.2670237768340755: 148700, 0.39395592744286: 183900, 0.5886108710153684: 328400, 0.18347869048247467: 148800, 0.5492004496422973: 291900, 0.35534493987624705: 168500, 0.29788289199004303: 156400, 0.3051384381345801: 156300, 0.4515813923365361: 214300, 0.3718566499851845: 176000, 0.4585225485466622: 218200, 0.28975474532391576: 154300, 0.4327213893065581: 201000, 0.05778855568653829: 173500, 0.4775845589669975: 232100, 0.2493670478060439: 142100, 0.3094998839739207: 156400, 0.30977559713898484: 156700, 0.1739069771122288: 149800, 0.3102325188952524: 156100, 0.07446816160872173: 170000, 0.20175750352240893: 146800, 0.2142501674793862: 144800, 0.3566834004344167: 169500, 0.7142333082250647: 431000, 0.44474101348503214: 209100, 0.36400116859255616: 172500, 0.4283843096849079: 198300, 0.2069383134713044: 145600, 0.3984814570159525: 186100, 0.594754238386412: 332600, 0.4260418688928759: 196500, 0.6506631728765127: 379300, 0.3363388988214571: 161300, 0.296468319522368: 156400, 0.575900330636147: 318300, 0.5385404432544837: 285600, 0.27362196268262085: 151400, 0.4856356515272243: 237600, 0.1775658791129654: 149600, 0.4471890886087675: 212000, 0.4455696312156884: 209900, 0.3960075978491757: 184900, 0.33106349126712703: 160000, 0.3862073041901395: 182100, 0.31071661251622273: 155800, 0.18107508968662567: 149400, 0.3738823851218095: 177400, 0.4122045587848973: 190100, 0.3833175273360433: 180100, 0.31710205005632863: 157800, 0.4321476873513814: 200200, 0.43774230536576864: 202900, 0.13207327997362295: 159300, 0.29667594303955896: 156800, 0.5200830182513675: 267700, 0.2323496067846144: 142500, 0.15159295136864126: 157000, 0.4035494923591614: 189700, 0.3638057692630871: 172600, 0.19890492792065084: 148300, 0.21183420314982127: 144700, 0.3219387438651677: 158500, 0.2972358062460616: 156500, 0.5456441604607813: 288700, 0.451541463668282: 214400, 0.0826551817558907: 168100, 0.7600973965348424: 455100, 0.3961362097714398: 184700, 0.2419069405343081: 142300, 0.3087646832337251: 156600, 0.21871649494042267: 144200, 0.384302327761779: 180200, 0.5063874241266701: 254200, 0.20743070180351675: 145900, 0.3137440012918936: 156900, 0.5843720295139261: 326000, 0.4360990423608471: 201900, 0.5468421250179007: 290100, 0.08858091927863454: 167000, 0.03188140327866018: 179900, 0.2199653056827752: 144600, 0.3070753567122124: 156900, 0.4772884042279141: 232200, 0.32983757636031585: 160100, 0.5768950414415952: 321600, 0.5936690367556907: 332300, 0.3101046069248302: 156200, 0.4127847020690506: 189900, 0.141777025686728: 157400, 0.3420949034594201: 163900, 0.2050334303765684: 145100, 0.4401494427709967: 205900, 0.14657874204017018: 157100, 0.2116034578632664: 144800, 0.4792967960238457: 233200, 0.4205604493618012: 192900, 0.3754027425437361: 177700, 0.24130776605090576: 142800, 0.2953402154348992: 156700, 0.3427240439766163: 164100, 0.661200099901573: 387900, 0.4239526858200898: 193600, 0.39575403526022623: 185300, 0.20574659350756053: 145500, 0.495491245912539: 246500, 0.2596925166813103: 144900, 0.1345989059757542: 159000, 0.3745279134930791: 177500, 0.3328796319059424: 160700, 0.5179181058664579: 266500, 0.16646279958454335: 152400, 0.3912345148824357: 184300, 0.1808668238085669: 149500, 0.2711806997052721: 149100, 0.3934708257784715: 184100, 0.2986122587242642: 156000, 0.7338631123908468: 440000, 0.4723584982188972: 228200, 0.5805630712090312: 323700, 0.2384327199008014: 142700, 0.2915141187809609: 155600, 0.5580146022745079: 298800, 0.3033139121693533: 155700, 0.272197341596758: 150700, 0.15112661751540934: 157200, 0.5852818799179953: 326800, 0.18487366631224345: 148300, 0.17386502349698862: 149900, 0.15566700374757925: 156700, 0.5747194513678551: 316900, 0.3606685883290057: 171500, 0.4237780802555986: 193700, 0.2521927409075402: 142100, 0.66365620211975: 390800, 0.3205443177674268: 158700, 0.25209859819025604: 142200, 0.41532344501968976: 189800, 0.4357043097953539: 201700, 0.4029858748655062: 189400, 0.20946582587989604: 145400, 0.1991086344461184: 148000, 0.16988961116687673: 150700, 0.3438867272154705: 165400, 0.17793046864303386: 149900, 0.15914263435312215: 154500, 0.444739156075426: 209200, 0.122422484932719: 162500, 0.3916257700404605: 183900, 0.4386520800558297: 204800, 0.4355245981667493: 201800, 0.3696471490972752: 175800, 0.4213264193889257: 193000, 0.4799934045688526: 234900, 0.5009136391249862: 248700, 0.2171489080867252: 145200, 0.18118817379345764: 149200, 0.462917041536924: 222600, 0.307083696932406: 156800, 0.0615114038055008: 173100, 0.21346681585183014: 145000, 0.12539564596640096: 160700, 0.4865231546195778: 238100, 0.4044784818952149: 189600, 0.2748982922450917: 151700, 0.2796782690125543: 153100, 0.5270591600722558: 275100, 0.189794165057105: 148900, 0.5470827221870422: 290500, 0.4556389451026917: 216800, 0.19482088411176526: 147000, 0.16123238850284272: 153800, 0.2290865964180714: 141500, 0.4970435894824363: 247100, 0.5740103743769027: 317100, 0.19683949931247813: 147000, 0.536010093785621: 283800, 0.14784302340971456: 156600, 0.5607425332874865: 300800, 0.2417236538352193: 142400, 0.1762126466712436: 149900, 0.1997540983799342: 147400, 0.27090707058842123: 149300, 0.4112046433461679: 190400, 0.4795261577174471: 233000, 0.5498476039517571: 292200, 0.4960520513154365: 247400, 0.2328900026308524: 142700, 0.38152423420467896: 179700, 0.32712511839093383: 157500, 0.3129348460886929: 155900, 0.478872719648722: 232900, 0.15967164329580366: 154200, 0.5036663002259023: 251100, 0.5300119859544006: 277800, 0.16458782795313245: 152300, 0.42275093364957217: 193200, 0.3656330090519544: 173600, 0.5729678385966532: 316200, 0.6306698066559997: 362800, 0.12877946125494466: 159800, 0.4427411167605503: 207600, 0.3927123369397344: 183500, 0.5566958203106314: 297200, 0.5684922297258634: 312000, 0.3900927776420439: 182500, 0.4107980309305964: 190800, 0.2113805115222931: 145000, 0.3632549830787891: 172200, 0.16735450963716247: 152000, 0.2602795241652308: 145100, 0.3320129463398779: 160500, 0.285035672622758: 154000, 0.3663492488699991: 173400, 0.5036571837357573: 251200, 0.2183571618956488: 144500, 0.6294347019614399: 362600, 0.3298899305833353: 160000, 0.4049686195479857: 189500, 0.2011937277542578: 147200, 0.4380758239610775: 203300, 0.23798848608055634: 143100, 0.1509131080395466: 157500, 0.6306449609833795: 362900, 0.24594679998384936: 142400, 0.1832066452181017: 149100, 0.4857217194260778: 237500, 0.3864812174358884: 182000, 0.27084145352647115: 149400, 0.19656695868517904: 147100, 0.4941123015171772: 246300, 0.6385756933407203: 368800, 0.6198319510833636: 355700, 0.4567776596223986: 217700, 0.3570653280696353: 169800, 0.5530146502361104: 294000, 0.12485618687964772: 161500, 0.3423401089133443: 164300, 0.3292846454156412: 159800, 0.20406804696933645: 145500, 0.3703562419962239: 175500, 0.6274929060726553: 360800, 0.6261781925285185: 359400, 0.3497921276736904: 168200, 0.40326222132992096: 189300, 0.33128206794326365: 160400, 0.22279119249936696: 143600, 0.4997101905378135: 247400, 0.4199426746046221: 192600, 0.7269610235014478: 437200, 0.4003916540862741: 187900, 0.5324169767869485: 281600, 0.2219907069528425: 143800, 0.4822912384328004: 236100, 0.1752631664276123: 149700, 0.5175886353528177: 266600, 0.4458906137057253: 209700, 0.589806051874483: 330300, 0.3891498905581397: 182700, 0.2342571398696384: 142100, 0.7398532931063626: 440400, 0.8717101029044874: 504600, 0.7220426306531236: 434300, 0.6045650186369548: 342400, 0.6403362197247711: 369700, 0.7015697120411977: 425100, 0.6256783897610936: 358900, 0.5707395773481678: 314300, 0.43870862432428304: 204700, 0.6847971142143816: 409300, 0.6827431858794109: 408300, 0.5249592853156295: 273700, 0.7879516538735982: 462900, 0.4923723189009202: 244800, 0.7520310874726321: 449700, 0.4593257165035686: 218000, 0.5542721740297369: 295300, 0.6441646447858295: 372400, 0.5211488956937919: 268500, 0.5564546599178701: 296200, 0.30220661976852936: 155300, 0.5228086508609153: 270800, 0.28950676483076976: 153500, 0.6115494269776989: 347600, 0.7687866125960607: 456500, 0.5458176987799439: 288600, 0.5713049200539653: 314800, 0.5628860721717011: 304800, 0.6457841911831418: 373400, 0.44397501607198975: 207900, 0.8033722066194624: 471400, 0.5622681056124132: 301800, 0.6194437854998821: 355200, 0.4026434163789492: 189000, 0.5736125557607896: 316600, 0.33277050385604034: 160200, 0.26103353520502914: 145900, 0.5834077500008248: 324000, 0.20710111792023125: 145500, 0.7037627449309504: 425500, 0.6633117282511415: 389300, 0.5055912503519574: 251300, 0.32766463305499105: 158200, 0.06199638183052481: 172800, 0.20685997524776967: 145200, 0.6071009039878845: 344900, 0.1883176524896879: 148000, 0.6427886639092419: 371500, 0.5488016472474948: 291400, 0.3455340264214052: 165500, 0.6405297690952146: 370200, 0.4469126680412808: 211500, 0.09000953307022919: 166700, 0.5762092159003824: 319700, 0.4728423357009888: 228000, 0.21436407517742465: 145000, 0.38511544909026174: 181300, 0.3336699222390717: 160800, 0.26694265330159983: 148200, 0.09850107979130096: 165300, 0.6426072365327462: 371000, 0.32571320396822856: 157200, 0.4616466788826762: 219700, 0.11441200166135225: 164200, 0.5020428175056303: 250000, 0.5526832340134157: 292500, 0.4535872452967876: 214600, 0.2542719534925513: 142000, 0.6868916508313772: 410200, 0.6822945200712294: 407800, 0.7147994767371062: 430900, 0.6004173018642374: 339100, 0.3962838464492077: 184500, 0.4542447078872371: 215600, 0.6492277275066118: 377300, 0.7441825234406703: 443700, 0.6242496427651998: 357400, 0.4490356090906504: 212200, 0.4015265725351669: 187600, 0.0613945480939504: 172600, 0.5482927599066012: 290900, 0.3855884864523604: 181800, 0.2199187451923216: 144100, 0.6653924173599965: 392200, 0.5370023071363166: 283700, 0.5843485722670684: 325500, 0.2126104316195926: 144700, 0.665441412780736: 392700, 0.3138462385615787: 156800, 0.2734552847372519: 150900, 0.5215006551227054: 269000, 0.4743189457300547: 229000, 0.23761191158681305: 143000, 0.483479726153451: 235900, 0.7314068731423969: 439000, 0.2565241770164387: 142900, 0.3947717921959387: 183800, 0.6498219982997789: 378300, 0.5767648525133326: 320600, 0.2964186024021458: 155900, 0.34574574554288706: 165800, 0.43431680589108856: 201000, 0.4717037291140169: 226800, 0.5223577427300248: 270400, 0.63863215172613: 368700, 0.4474075154678242: 211900, 0.1985700162681373: 147400, 0.4191157109028584: 191800, 0.2667369335084349: 147800, 0.3019514293284029: 155000, 0.2245803249848856: 142900, 0.35969237278442123: 170800, 0.5386670368748743: 285500, 0.5966179928666837: 333300, 0.5438895255729959: 287700, 0.4635545675818985: 222900, 0.6275017571610373: 360700, 0.3285310077103408: 158800, 0.6301418208592646: 362400, 0.1011427761735143: 166300, 0.2775122821331024: 152200, 0.6061967869062681: 344400, 0.4946072874842463: 246100, 0.15491434851208252: 156500, 0.1282224349073462: 159700, 0.5781475998259878: 322800, 0.4798832527689032: 233900, 0.6333371922373772: 364200, 0.5341786061589782: 282400, 0.2712620980030781: 148900, 0.3420826905482525: 163400, 0.2906205009769749: 154900, 0.577285839093698: 321500, 0.4206804937204799: 192800, 0.3436256602809236: 164400, 0.3275221940633413: 157800, 0.3594666566397693: 170000, 0.4901251873454532: 240500, 0.3765989329565216: 177300, 0.4444293033432316: 208200, 0.303587663616683: 156000, 0.5449946756298478: 288200, 0.675128259972946: 401300, 0.7928437467765164: 466400, 0.4766522221065856: 231200, 0.32871865219361074: 159300, 0.4514927074715898: 213900, 0.5129044493912039: 259200, 0.5307089706530442: 279700, 0.18442537655701507: 148000, 0.262040194627401: 146500, 0.7587975372333784: 454200, 0.24324065205213186: 141600, 0.8144429765037589: 475700, 0.13820153152620476: 157900, 0.5402439440021644: 285800, 0.5586645639426: 299100, 0.4032763210502831: 189200, 0.4093537151410773: 189700, 0.25560877854759634: 141800, 0.12649644146094452: 160100, 0.5699964141523516: 313900, 0.40855727324614655: 188700, 0.14602959075489566: 156700, 0.25757069785047226: 143000, 0.611570688518318: 348100, 0.33118861188759674: 159900, 0.31274742814334666: 155500, 0.6056669045340369: 342900, 0.5383256254465999: 285100, 0.4790193529145138: 232800, 0.27179527927089386: 149300, 0.1650091808389973: 152500, 0.5072265621778127: 254800, 0.5305175616129025: 278200, 0.5414378701432332: 286300, 0.2952219859973805: 156300, 0.18654371516124624: 148100, 0.5563252805858045: 295700, 0.2441047538776655: 141700, 0.5574291612248163: 297500, 0.5627597735540286: 303800, 0.3055226891427427: 156000, 0.5569059651445698: 297000, 0.6156533106758788: 352100, 0.2670347138836577: 148600, 0.317736925305547: 157600, 0.274765250247878: 151200, 0.2402958926316853: 142700, 0.5844609167527508: 325900, 0.2396363833466092: 142000, 0.4263646385154208: 196300, 0.6995881389121752: 423600, 0.262609456036542: 146500, 0.3596271711426813: 170400, 0.5004223995917552: 248300, 0.6058602522353869: 343900, 0.5317898259775058: 280200, 0.4738277188829474: 228500, 0.11059855126045848: 164200, 0.4750559055120558: 230300, 0.5133941127239047: 261700, 0.5060274278795397: 252700, 0.16501337893911305: 153000, 0.3722394743078464: 176200, 0.4381536648080155: 203200, 0.3994816769216512: 187400, 0.4744229702329314: 229500, 0.444834119162044: 209000, 0.3530335746504165: 167300, 0.4417109582069758: 207200, 0.12455980358897036: 161100, 0.6978821426227286: 421600, 0.4648176572612814: 224000, 0.4986826033406967: 246900, 0.2461866945833773: 142200, 0.18132183036288696: 149100, 0.2607314123495205: 145500, 0.6639470329155793: 390700, 0.1479767713997815: 156900, 0.1867766267544514: 148400, 0.3421223332753053: 163800, 0.2336718146059964: 141900, 0.5626037349370685: 303300, 0.4200346115473155: 192500, 0.19544021825532654: 146600, 0.21230358288094808: 144500, 0.2313693028849524: 142300, 0.2762367578374373: 151800, 0.2326626485666713: 142400, 0.4865697428986833: 238000, 0.4310135482936293: 199100, 0.6057831204018077: 343400, 0.4245105200522655: 195300, 0.2142572112985559: 144700, 0.5061798206454999: 253200, 0.5186228598090443: 266400, 0.4401450406860661: 205400, 0.16413322816023956: 152000, 0.4842174157903001: 236800, 0.3135130276551118: 155900, 0.3562331372821653: 169000, 0.42882782865215: 198100, 0.5896001607179642: 329300, 0.5683194592192367: 310000, 0.3644080029146092: 172900, 0.3872789603632849: 181800, 0.3694872034562601: 174800, 0.5104908280678697: 256500, 0.7176812041450191: 432400, 0.2666080263820855: 147300, 0.537451637757791: 284200, 0.2539069596174601: 141600, 0.4628868243984274: 222100, 0.5541737276960064: 294300, 0.32750829611275645: 157300, 0.4496161802797705: 213100, 0.4745579311573828: 230000, 0.392951534809293: 183300, 0.5761839155409787: 318700, 0.7652847210096346: 455500, 0.4557050353771931: 216700, 0.5534615536799302: 293900, 0.6381704364273999: 367800, 0.4939725431236061: 245800, 0.4403473807347788: 205800, 0.5344165201122697: 282900, 0.288464321075259: 153400, 0.5090092348085867: 256400, 0.5530055630448703: 293500, 0.5748440752158294: 316800, 0.7225338772342011: 434800, 0.5630840133573558: 305300, 0.5982210793205209: 336600, 0.30763816712675873: 156400, 0.2371703257431856: 142600, 0.4671701758697226: 225300, 0.5162433677831212: 263600, 0.6073359643688073: 345400, 0.373496600099512: 176600, 0.36790412744960266: 173600, 0.510664491234599: 257000, 0.5249252476402231: 273200, 0.2988778300381996: 156300, 0.5594052859657519: 299800, 0.5578037065428656: 298400, 0.6801932272878852: 405800, 0.2721281454369828: 150200, 0.2592685850890907: 144700, 0.44450667983776815: 208700, 0.8250117442897849: 481700, 0.6434015901507558: 371900, 0.6080031280179281: 346300, 0.7157811181166688: 431400, 0.5897242797387613: 329800, 0.6545656665756896: 382600, 0.8160198481904494: 476700, 0.31078678208428456: 155700, 0.40175940051070747: 188100, 0.5685318130496386: 311900, 0.4308562961381833: 198600, 0.599685562573172: 338100, 0.2303323028860865: 141400, 0.8376767530634597: 488100, 0.8153026002283033: 476200, 0.09229099106144256: 166800, 0.3721966487733094: 175700, 0.4278487184563199: 197300, 0.2300390278970873: 141000, 0.33783713708052765: 162000, 0.4911610645216864: 241400, 0.8941874174854242: 511500, 0.8393774300410941: 489600, 0.55277243659303: 293000, 0.9015598740126636: 515000, 0.6084894754395291: 346700, 0.4270941655378084: 196900, 0.8470200202553659: 494600, 0.8739998863154166: 506100, 0.6580090953691586: 384900, 0.7007477061470618: 424600, 0.4535225310639756: 214100, 0.37879140473700856: 178100, 0.7897849181616629: 464900, 0.5229617453910209: 271300, 0.5207246493648838: 268000, 0.34723086494046285: 166500, 0.4575760388696516: 218000, 0.5864189347705325: 327000, 0.5861045202693423: 326500, 0.5375977102163676: 284700, 0.5881819729063962: 327900, 0.4889610588953302: 238600, 0.751333136916966: 448700, 0.3806155586766229: 177900, 0.8333333323936205: 485200, 0.5658336788214542: 307700, 0.6274852430498278: 360300, 0.35933177978605835: 169500, 0.6922932653813749: 414200, 0.633980024505306: 365100, 0.6042835082154017: 342000, 0.6329717672354467: 363700, 0.7455301457965696: 444700, 0.13401136043909434: 158300, 0.2398524634741448: 142400, 0.7794639602605555: 459900, 0.5132539074968647: 261200, 0.2094305197934847: 144900, 0.5916732482209399: 330500, 0.20012879532736705: 147200, 0.542754562118569: 287200, 0.5175740086549037: 266100, 0.5585569129199595: 298600, 0.6324120522350878: 362700, 0.32042027405790385: 158200, 0.7122009116652851: 430000, 0.1728054426006369: 149900, 0.2951195360840978: 155800, 0.5591495037078857: 299400, 0.3993081410188932: 186400, 0.3846748687729642: 181000, 0.15018645492759908: 156900, 0.7918918914086109: 465900, 0.4845611445001654: 237100, 0.121564008094169: 162200, 0.2579354353853174: 143400, 0.8297387627330987: 483200, 0.3385984889558844: 163300, 0.42198037617915385: 192900, 0.7553918932539385: 452200, 0.4618862075982867: 220700, 0.5283844362239579: 276400, 0.3814051916470399: 179200, 0.19010218655740896: 148700, 0.5345693838757437: 283400, 0.4241174076860016: 194400, 0.501919457839953: 249500, 0.6569201444854608: 383900, 0.6678695555877041: 394200, 0.6032638156132117: 341000, 0.2776948463272404: 152700, 0.8502672540174948: 497100, 0.6819133452467017: 406800, 0.17593973391764872: 149100, 0.4923992495279055: 245300, 0.2614321527448861: 146200, 0.5673357074123782: 308500, 0.3646273065257717: 173400, 0.5979395605422355: 335100, 0.4227611231240066: 193100, 0.2906511615257006: 155400, 0.23549186579279: 142200, 0.5082471104892525: 255400, 0.29663435309319885: 156300, 0.0991485344397055: 165700, 0.24525178163438235: 142000, 0.7190648436143592: 432900, 0.7913999803162909: 465400, 0.2854801670119569: 153900, 0.7550468994556246: 451700, 0.5151654916840631: 262600, 0.8235038935735419: 480700, 0.3168781484301025: 157300, 0.6905821719886484: 412700, 0.36074331241684987: 171400, 0.1298421081658956: 159300, 0.8512438540724484: 497600, 0.8655340064417671: 503600, 0.6934224367141724: 415700, 0.3889935486824125: 182200, 0.8311450560954777: 484200, 0.4870409313085917: 238400, 0.8229559452549832: 480200, 0.6742664115453089: 400300, 0.8003304785973318: 469900, 0.3951626770399712: 184300, 0.4812682504589493: 235800, 0.5418868221946664: 286800, 0.3973117462686591: 185600, 0.4453166767552093: 209500, 0.27320017524667684: 150400, 0.4258334713207709: 196000, 0.5279949158430101: 275400, 0.5248548485137321: 272700, 0.4622377451207187: 221100, 0.7574519611693717: 453200, 0.6280456290051744: 361100, 0.7003108375781291: 424100, 0.5834725368264561: 324500, 0.7557642795145512: 452700, 0.6532014260018194: 380600, 0.33081503091631714: 159700, 0.3954626136534923: 184800, 0.4378945960386379: 202800, 0.27812823693494537: 152900, 0.1985706107036488: 147900, 0.6401478398490597: 369200, 0.6940806582570076: 417700, 0.4909102751596554: 240900, 0.8659504736597474: 504100, 0.889553628257803: 509000, 0.16478886717074626: 152200, 0.4343145650786322: 200500, 0.3312985897064209: 160300, 0.3282870622100057: 158300, 0.7216758311197564: 433800, 0.27605516362834626: 151300, 0.5673686932470348: 309000, 0.7748548779133204: 457900, 0.6244588219938245: 357900, 0.6763974858095517: 402300, 0.8392045426408987: 489100, 0.4615418089402689: 219200, 0.741417928623992: 441400, 0.26553079123432577: 147400, 0.7262578327712175: 436200, 0.4600989560823183: 218900, 0.3903806676735749: 182900, 0.4540271436845934: 215100, 0.5625664595816586: 302800, 0.5726662560089215: 315700, 0.8615177676484391: 502600, 0.5666490418685449: 308100, 0.6555956866894219: 383600, 0.6343426454711605: 365600, 0.4709541040497858: 226000, 0.6545909079345498: 383100, 0.13808628272365875: 157500, 0.7404625152011175: 440900, 0.546548164072069: 289600, 0.3501719820338327: 168100, 0.9133748371858854: 519000, 0.8408550789227357: 491600, 0.6254524032811861: 358400, 0.6136806317277856: 349600, 0.3570145996841224: 169400, 0.6991517442102368: 422600, 0.5280833175858936: 275900, 0.4676382508430932: 225500, 0.5318191905279417: 280700, 0.5760861840602514: 318200, 0.15298213588224874: 156100, 0.17204817404618133: 149400, 0.5959429477114935: 332400, 0.17410938119566122: 149500, 0.5779480637126677: 322300, 0.4889723010159828: 239100, 0.4864684693716668: 237700, 0.1129495332369933: 163900, 0.5492486121082628: 291700, 0.3480851660306389: 167300, 0.7597038749907468: 454600, 0.19754988841108376: 147100, 0.4501424161969004: 213600, 0.2565146877958968: 142400, 0.7466474137193448: 446200, 0.6146974628036086: 351100, 0.8757431861013174: 506600, 0.6923146920429694: 414700, 0.4091941923708529: 189200, 0.7434056997299194: 442800, 0.8418708154679956: 493100, 0.9076528961996776: 515500, 0.5340097526440749: 281400, 0.6938673652507164: 417200, 0.5962290179890555: 332800, 0.8469813273766557: 494100, 0.5643861668335425: 305800, 0.6287568092748925: 362100, 0.262866031076457: 147400, 0.4720737966331275: 227200, 0.8278897701687105: 482700, 0.6510189614585928: 379200, 0.827832883072866: 482200, 0.3096100905457059: 156300, 0.3742547236584328: 177100, 0.5645520002455324: 306300, 0.4437239765114075: 207500, 0.516616277598046: 264100, 0.5056377323092641: 251800, 0.4266858950660035: 196700, 0.6012397627975489: 339500, 0.7044747710429333: 427000, 0.7523948441486101: 450200, 0.8604402376993282: 502100, 0.7287499179711213: 438000, 0.7096365122376261: 429000, 0.7252673277178326: 435300, 0.5800979433430208: 323300, 0.20548270179613207: 145200, 0.4107921365145091: 190300, 0.3556705703203743: 168800, 0.6646398650230588: 391700, 0.4663955343736185: 224800, 0.6078272254483119: 345800, 0.5109263779343786: 257500, 0.3636464462489695: 172100, 0.25590924314550456: 142200, 0.5000418887750522: 247800, 0.5301744655982867: 277700, 0.4312072537235312: 199600, 0.6965515756526509: 420700, 0.34430961190043274: 165100, 0.7318394539525379: 439500, 0.6166315276075054: 352500, 0.7278494691929301: 437000, 0.7300569421133479: 438500, 0.5890788206377545: 328800, 0.6822841058711748: 407300, 0.836303519437442: 487100, 0.6868051689218829: 409700, 0.3717316513931429: 175600, 0.7942141717350161: 466900, 0.5062279973078418: 253700, 0.32275313380602244: 158100, 0.5222280871223759: 270000, 0.6122318002823237: 349100, 0.7207200626867849: 433400, 0.823864641624528: 481200, 0.640814063516823: 370700, 0.5819922858295408: 323500, 0.5269752044130016: 274600, 0.8184583352224247: 478700, 0.4186654417095957: 191600, 0.38758960768983175: 182300, 0.678588965655984: 403800, 0.250906294262087: 141700, 0.4912939268994976: 241900, 0.479907667113317: 234400, 0.37454894023972585: 177400, 0.617292867520371: 352900, 0.4785157329327351: 231900, 0.8342003208157178: 486200, 0.4997664200695785: 247300, 0.4165926531359956: 190300, 0.3736938810026323: 177000, 0.14103097851211965: 157300, 0.2193999838184666: 143800, 0.6474531480186694: 375400, 0.6936723888927214: 416200, 0.2597505264991039: 144800, 0.17613982348828705: 149500, 0.4459300077444798: 209600, 0.17253967072512655: 149600, 0.597645122658562: 334600, 0.17839333898312335: 149600, 0.5720448580545348: 315300, 0.15469367359135594: 156300, 0.5836825525841197: 325000, 0.4073582549352903: 188500, 0.6495366652269621: 377800, 0.4462451234057143: 210100, 0.508998393206983: 255900, 0.7959790027423485: 467400, 0.2585007193926219: 143800, 0.5683205484135732: 310500, 0.7431666480528342: 442300, 0.4348582079684412: 201500, 0.7456061858180407: 445700, 0.6636375742586884: 390300, 0.4279880765322093: 197800, 0.6525905059801566: 379600, 0.3674625093872482: 173100, 0.3290582307287164: 159400, 0.6894881481657157: 412200, 0.8188190367576238: 479200, 0.3903853007265039: 183400, 0.17657419716989675: 149400, 0.2363069367569845: 142800, 0.8534908858505456: 499600, 0.7135483235926241: 430500, 0.1851921862847096: 148200, 0.454300572743287: 216100, 0.37123606877552495: 175200, 0.6228151845972281: 356500, 0.5917777068711616: 331000, 0.3929781265355445: 183800, 0.8383420355416633: 488600, 0.6222541370504611: 355600, 0.9486377939984604: 522000, 0.4914395257427886: 242400, 0.4410316859548157: 206800, 0.4623938879451236: 221600, 0.5693623953171678: 313400, 0.4546453956816647: 216600, 0.8941430880411251: 511000, 0.6032507860580006: 340500, 0.2904967146145331: 153900, 0.9411131844327256: 521000, 0.4193596421061335: 192300, 0.6600279707360912: 386400, 0.750538898279538: 447700, 0.315224355137026: 157600, 0.416822542008516: 190700, 0.7810336623240162: 461900, 0.5323160226280625: 281100, 0.4785385864811975: 232400, 0.28953626671352906: 154000, 0.8068856335169561: 474300, 0.9216107669714336: 520500, 0.2150236344015276: 145200, 0.6229399410454002: 357000, 0.4766832895174221: 231700, 0.7752595574066445: 458900, 0.8088125167666255: 475300, 0.5468564720169917: 290000, 0.5762451681736354: 320200, 0.2986188647714821: 155900, 0.5627737789339311: 304300, 0.8759976866076121: 507100, 0.3368579648636483: 161600, 0.5069346941403441: 254300, 0.5683249158633722: 311500, 0.6799208464453349: 405300, 0.7617150345766867: 455000, 0.6766960739686683: 402800, 0.7491874099784606: 447200, 0.678632998788679: 404300, 0.6145008043260187: 350100, 0.5265789701527841: 274100, 0.3383581314135242: 162900, 0.5758861422136023: 317800, 0.5648042897920351: 306800, 0.4714676167916607: 226400, 0.5980479354793962: 336100, 0.7774947271556467: 459400, 0.8176142738477604: 477700, 0.33799542043660136: 162500, 0.5292257982734088: 276900, 0.8474737864893835: 495600, 0.5623926538470629: 302300, 0.4797353877409084: 233400, 0.4462905816129736: 210600, 0.09958300075015504: 166100, 0.80800131406333: 474800, 0.4162855619514311: 189900, 0.7540460558155099: 450700, 0.2813280981940192: 153000, 0.6932629330738171: 415200, 0.8346472501352027: 486600, 0.3332468843137896: 160500, 0.6270734820816968: 359300, 0.8415066162879403: 492600, 0.437359248464172: 202100, 0.6613166998769786: 387800, 0.9163642710427174: 519500, 0.2708211476738388: 148900, 0.14442345419445554: 156400, 0.9093609705970094: 517000, 0.27210664326274714: 149700, 0.4494344964623451: 212700, 0.6720032144237209: 398400, 0.3540429054079829: 168200, 0.6014052379775692: 340000, 0.9124637897554282: 518000, 0.4801681331686072: 234800, 0.6760130444088498: 401800, 0.5036843652660783: 251000, 0.4841939359903336: 236300, 0.4890182185414675: 239600, 0.6475221824807089: 375900, 0.5130265067155297: 260200, 0.5306513371902544: 278700, 0.560787782677122: 300700, 0.5114525975407781: 258000, 0.6675740403903497: 393200, 0.5197884279328424: 267200, 0.6740666181855911: 399800, 0.6890262065304292: 411700, 0.4385607065381231: 203300, 0.8819152300019522: 508500, 0.5849287457562782: 326300, 0.7507003479309984: 448200, 0.9514369163158778: 522500, 0.8033057834852386: 470900, 0.8328447805063145: 484700, 0.5994125080571786: 337600, 0.6177727418976862: 353400, 0.2696521765476948: 148700, 0.8912259517489253: 509500, 0.564978062250727: 307300, 0.4797152453983152: 232900, 0.6941561066621058: 418200, 0.5866523418273475: 327500, 0.8486969257528718: 496100, 0.7452523470730394: 444200, 0.2804463481580889: 152700, 0.7583430604757491: 453700, 0.7795455133592759: 460400, 0.5761841883933222: 319200, 0.8054752086062689: 472800, 0.6708611211663968: 396000, 0.4239969853613828: 193500, 0.38068633244649785: 178400, 0.4182399503282599: 191400, 0.5131198480926655: 260700, 0.8455886156172365: 493600, 0.5231523427206117: 272300, 0.3986727441283496: 186000, 0.4597639283417044: 218400, 0.7164575673035674: 431900, 0.3970329970926851: 185300, 0.5910767208080034: 330100, 0.31937848313434697: 157800, 0.5270610290604669: 275000, 0.804493649585827: 471900, 0.3216589648981352: 157600, 0.709213907855588: 428500, 0.8973180271081023: 512500, 0.5731326208726779: 316100, 0.5191930260609936: 266800, 0.42426758017894384: 194800, 0.1891729219539745: 148400, 0.5979785937312487: 335600, 0.3611572904361261: 171900, 0.4955900708163107: 246900, 0.4955082745165438: 246400, 0.3360545619114025: 160900, 0.44685186224209295: 211000, 0.6971448514912579: 421100, 0.918113140842399: 520000, 0.612028251628618: 348600, 0.21393758219641607: 144700, 0.6110393310318122: 347100, 0.5012565696158925: 248600, 0.5218953784253146: 269500, 0.556515578281235: 296700, 0.3830109331253413: 179600, 0.29466459396723155: 155400, 0.2462504087267695: 142700, 0.5602433580804516: 300300, 0.4404442270059843: 206300, 0.3695535265110633: 175300, 0.10710948866766856: 164800, 0.7096726813831845: 429500, 0.6475744843482971: 376900, 0.3768331267543741: 177700, 0.4307161060136717: 198100, 0.2520894899561599: 141700, 0.6000079867002126: 338600, 0.6812544745972028: 406300, 0.30339016302211863: 155600, 0.618887339693469: 354800, 0.7895843279925553: 464400, 0.6946431329926929: 418700, 0.28385112897769826: 154100, 0.7881933169791827: 463400, 0.7705450972189775: 457000, 0.9001968241221197: 514500, 0.5036500039938334: 250700, 0.3431982683974344: 163900, 0.5768055251321277: 321100, 0.741962330164136: 441900, 0.9577467989277196: 523000, 0.4022345550962396: 188600, 0.6384707334879283: 368300, 0.1365247666835785: 157700, 0.16255496402044556: 152500, 0.5934067635318717: 331800, 0.3901430960442569: 182400, 0.6887966575654778: 411200, 0.26069403540443725: 145100, 0.8498708255387641: 496600, 0.5890094029742319: 328300, 0.817255483889902: 477200, 0.7252975145505892: 435800, 0.20519246201257446: 144900, 0.8338937690934619: 485700, 0.5174432582146413: 265600, 0.4646566067193005: 223500, 0.615339714731719: 351600, 0.26903584196760844: 148200, 0.9106220246569532: 517500, 0.3819761171534255: 179500, 0.8221627477858517: 479700, 0.6788172470153989: 404800, 0.3553609872186506: 168400, 0.6608049924913291: 387400, 0.6640844835421523: 391200, 0.8055988376003664: 473300, 0.34625931245249675: 166300, 0.6473915442018896: 374900, 0.7279759016190026: 437500, 0.7999813846639685: 469400, 0.6984369597724966: 422100, 0.41009402496589203: 190100, 0.6994241020969443: 423100, 0.5686312076207753: 312900, 0.6468481212048918: 374400, 0.5340417663793307: 281900, 0.6466474645846598: 373900, 0.6690910325662509: 394600, 0.6701324911335029: 395100, 0.6535540847359477: 381100, 0.6635589670087839: 389800, 0.7439058503589114: 443200, 0.9080672803762796: 516000, 0.7973453948223913: 467900, 0.8570807568124823: 501100, 0.2643233845765526: 147300, 0.3683061559458036: 174100, 0.78001470088556: 461400, 0.8542363526349938: 500100, 0.41286710186584574: 189700, 0.4755490112143594: 230800, 0.7750978352552329: 458400, 0.35810415406484863: 169400, 0.4863752134748407: 237300, 0.8309308067970984: 483700, 0.42482959901964346: 195800, 0.17776049633283875: 149400, 0.7267539627044588: 436700, 0.3365310188886281: 161200, 0.592217435103816: 331500, 0.3476884699351078: 166900, 0.3904647311648807: 183900, 0.663233953150543: 388800, 0.5067422724253423: 254000, 0.8805178665631526: 507500, 0.6475704208620496: 376400, 0.9132795051948444: 518500, 0.4316194311187074: 199800, 0.4804070265711965: 235300, 0.2603758158715995: 145000, 0.6627619157771807: 388300, 0.3217359020097835: 158100, 0.22380917620014493: 142700, 0.6719703499127079: 397400, 0.5139443093055003: 262200, 0.6773379114834037: 403300, 0.3597414849980457: 171200, 0.3396850496127799: 163500, 0.652904184484804: 380100, 0.3813645793376742: 178700, 0.7042972653902866: 426000, 0.6185540905272638: 354300, 0.4631924115725466: 222400, 0.8916800382572252: 510000, 0.5615743338256269: 301000, 0.8812197321975553: 508000, 0.8413103496706164: 492100, 0.3135492302275993: 156400, 0.7468628500764434: 446700, 0.5616843696381595: 301500, 0.4686157397321753: 225900, 0.6937568435395086: 416700, 0.6909716467599611: 413200, 0.4896101140089937: 240000, 0.4616578040090768: 220200, 0.6846471138902612: 408800, 0.873213595031081: 505600, 0.8591536659545995: 501600, 0.5059452991227846: 252300, 0.5129256986484334: 259700, 0.8176524524350424: 478200, 0.3968494808351671: 184800, 0.3130719303279311: 155700, 0.3640134580232002: 172400, 0.6716328037751688: 396900, 0.34383453630112315: 164900, 0.6705346461888906: 395600, 0.7351595561045248: 439900, 0.5306556497675341: 279200, 0.3193051653939325: 157300, 0.1957783030497061: 147000, 0.34934082949483714: 167700, 0.3298326561579833: 159600, 0.3840852226759937: 179700, 0.463972549986195: 223200, 0.6284531269323181: 361600, 0.6883473531217188: 410700, 0.250403339798386: 141400, 0.6336261152818397: 364700, 0.6947047310705121: 419200, 0.4764337678616112: 230800, 0.2824175974001756: 153300, 0.5157823977438178: 263100, 0.6145456127218298: 350600, 0.545990853293522: 289100, 0.1508576757199055: 157000, 0.5027145403059754: 250300, 0.7686083077176197: 456000, 0.3685089878335193: 174500, 0.5776516511230856: 321900, 0.5203555161888536: 267600, 0.6956659182906151: 420200, 0.7717436054671133: 457400, 0.6503802624505919: 378800, 0.8995855307156171: 513500, 0.5526382488173407: 292000, 0.6915240843553799: 413700, 0.6947702541947365: 419700, 0.5298184468536764: 277300, 0.1973573839342272: 146600, 0.5481053123602996: 290400, 0.6606302335858345: 386900, 0.5936876126640551: 332200, 0.5229998583326468: 271800, 0.38465708171999136: 180500, 0.5014252125008687: 249100, 0.9440936134070964: 521500, 0.2886481836840913: 153800, 0.7977437601500266: 468900, 0.5170969832185153: 265100, 0.5676571110615859: 309500, 0.3845801055431366: 180000, 0.5079647600650787: 254900, 0.5990582029964473: 337100, 0.8012284215640377: 470400, 0.5115802312219465: 258500, 0.5127568450328466: 258700, 0.8631641757045243: 503100, 0.3773712441325188: 178000, 0.1342867129557842: 158600, 0.7877441709106032: 462400, 0.3059825973736273: 156500, 0.4386373156228581: 203800, 0.7071764020098222: 428000, 0.14793806261307485: 156400, 0.4658916930894594: 224400, 0.12233123747078145: 162000, 0.43653419170830704: 201800, 0.3619168062467832: 172100, 0.4922745453344809: 243800, 0.6542949742964796: 381600, 0.4358296225199828: 201600, 0.6365930369576892: 366800, 0.4323730347929774: 200100, 0.6180590414316267: 353900, 0.8528091347700841: 498600, 0.7545586715678911: 451200, 0.4570798672534324: 217600, 0.4154765346163029: 189600, 0.5575471445918083: 297900, 0.6362309244436186: 365800, 0.8057170278719954: 473800, 0.6226208467741271: 356000, 0.26265052041491943: 147000, 0.230739326090426: 141900, 0.4916626563346064: 242900, 0.6373968871461378: 367300, 0.5541980113532092: 294800, 0.6041560640206208: 341500, 0.6365736082598971: 366300, 0.6744618017125774: 400800, 0.4923029050633714: 244300, 0.8999374043699857: 514000, 0.8545433941322405: 500600, 0.6715340271994874: 396500, 0.2347742210368853: 141900, 0.6456041060186721: 372900, 0.8048336103155806: 472400, 0.6327283172994047: 363200, 0.575723036720946: 317300, 0.29210876643254946: 155400, 0.659160537192145: 385400, 0.4562654583840757: 217200}\n"
     ]
    }
   ],
   "source": [
    "Min_Metric = Metric(df_c)\n",
    "print(\"Minimum Metric\", Min_Metric)"
   ]
  },
  {
   "cell_type": "code",
   "execution_count": null,
   "metadata": {
    "colab": {
     "base_uri": "https://localhost:8080/"
    },
    "id": "WXPL21yBcWuZ",
    "outputId": "9251370d-c4eb-4400-b263-4af1c4658f9b"
   },
   "outputs": [
    {
     "name": "stdout",
     "output_type": "stream",
     "text": [
      "The Min value given by Metric is  141000 and it's threshold is : 0.2300390278970873\n"
     ]
    }
   ],
   "source": [
    "min_metric = min(Min_Metric.values()) \n",
    "threshold =0\n",
    "for key, value in Min_Metric.items():\n",
    "  if min_metric == value:\n",
    "    threshold = key\n",
    "print(\"The Min value given by Metric is \", min_metric, \"and it's threshold is :\" ,threshold)"
   ]
  },
  {
   "cell_type": "markdown",
   "metadata": {
    "id": "sD4CcgjXQvoL"
   },
   "source": [
    "<pre>\n",
    "<font color='red'><b>D.</b></font> Compute performance metrics(for regression) for the given data <strong>5_d.csv</strong>\n",
    "    <b>Note 2:</b> use pandas or numpy to read the data from <b>5_d.csv</b>\n",
    "    <b>Note 1:</b> <b>5_d.csv</b> will having two columns Y and predicted_Y both are real valued features\n",
    "<ol>\n",
    "<li> Compute Mean Square Error </li>\n",
    "<li> Compute MAPE: https://www.youtube.com/watch?v=ly6ztgIkUxk</li>\n",
    "<li> Compute R^2 error: https://en.wikipedia.org/wiki/Coefficient_of_determination#Definitions </li>\n",
    "</ol>\n",
    "</pre>"
   ]
  },
  {
   "cell_type": "code",
   "execution_count": null,
   "metadata": {
    "colab": {
     "base_uri": "https://localhost:8080/",
     "height": 73,
     "resources": {
      "http://localhost:8080/nbextensions/google.colab/files.js": {
       "data": "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",
       "headers": [
        [
         "content-type",
         "application/javascript"
        ]
       ],
       "ok": true,
       "status": 200,
       "status_text": ""
      }
     }
    },
    "id": "xB6EWkKCPpsP",
    "outputId": "c9656365-e641-4fea-ec13-7bbfe84a55aa"
   },
   "outputs": [
    {
     "data": {
      "text/html": [
       "\n",
       "     <input type=\"file\" id=\"files-54fd077d-9143-4d67-9ab2-92b13b37c6a3\" name=\"files[]\" multiple disabled\n",
       "        style=\"border:none\" />\n",
       "     <output id=\"result-54fd077d-9143-4d67-9ab2-92b13b37c6a3\">\n",
       "      Upload widget is only available when the cell has been executed in the\n",
       "      current browser session. Please rerun this cell to enable.\n",
       "      </output>\n",
       "      <script src=\"/nbextensions/google.colab/files.js\"></script> "
      ],
      "text/plain": [
       "<IPython.core.display.HTML object>"
      ]
     },
     "metadata": {},
     "output_type": "display_data"
    },
    {
     "name": "stdout",
     "output_type": "stream",
     "text": [
      "Saving 5_d.csv to 5_d (1).csv\n"
     ]
    }
   ],
   "source": [
    "from google.colab import files\n",
    "uploaded = files.upload()"
   ]
  },
  {
   "cell_type": "code",
   "execution_count": null,
   "metadata": {
    "colab": {
     "base_uri": "https://localhost:8080/",
     "height": 203
    },
    "id": "vX1pcg9zQOIh",
    "outputId": "174a9305-62ea-414c-c820-85d1483b91ce"
   },
   "outputs": [
    {
     "data": {
      "text/html": [
       "<div>\n",
       "<style scoped>\n",
       "    .dataframe tbody tr th:only-of-type {\n",
       "        vertical-align: middle;\n",
       "    }\n",
       "\n",
       "    .dataframe tbody tr th {\n",
       "        vertical-align: top;\n",
       "    }\n",
       "\n",
       "    .dataframe thead th {\n",
       "        text-align: right;\n",
       "    }\n",
       "</style>\n",
       "<table border=\"1\" class=\"dataframe\">\n",
       "  <thead>\n",
       "    <tr style=\"text-align: right;\">\n",
       "      <th></th>\n",
       "      <th>y</th>\n",
       "      <th>pred</th>\n",
       "    </tr>\n",
       "  </thead>\n",
       "  <tbody>\n",
       "    <tr>\n",
       "      <th>0</th>\n",
       "      <td>101.0</td>\n",
       "      <td>100.0</td>\n",
       "    </tr>\n",
       "    <tr>\n",
       "      <th>1</th>\n",
       "      <td>120.0</td>\n",
       "      <td>100.0</td>\n",
       "    </tr>\n",
       "    <tr>\n",
       "      <th>2</th>\n",
       "      <td>131.0</td>\n",
       "      <td>113.0</td>\n",
       "    </tr>\n",
       "    <tr>\n",
       "      <th>3</th>\n",
       "      <td>164.0</td>\n",
       "      <td>125.0</td>\n",
       "    </tr>\n",
       "    <tr>\n",
       "      <th>4</th>\n",
       "      <td>154.0</td>\n",
       "      <td>152.0</td>\n",
       "    </tr>\n",
       "  </tbody>\n",
       "</table>\n",
       "</div>"
      ],
      "text/plain": [
       "       y   pred\n",
       "0  101.0  100.0\n",
       "1  120.0  100.0\n",
       "2  131.0  113.0\n",
       "3  164.0  125.0\n",
       "4  154.0  152.0"
      ]
     },
     "execution_count": 4,
     "metadata": {},
     "output_type": "execute_result"
    }
   ],
   "source": [
    "df_d = pd.read_csv('5_d.csv')\n",
    "df_d.head(5)"
   ]
  },
  {
   "cell_type": "code",
   "execution_count": null,
   "metadata": {
    "colab": {
     "base_uri": "https://localhost:8080/"
    },
    "id": "IY4GY-j5QawF",
    "outputId": "9ec9e431-6a11-40fa-b87b-3550bc3a1c5c"
   },
   "outputs": [
    {
     "name": "stdout",
     "output_type": "stream",
     "text": [
      "Mean Square Error : 177.16569974564558\n"
     ]
    }
   ],
   "source": [
    "#Mean Square Error\n",
    "MSE = 0\n",
    "for i in df_d.index:\n",
    "  MSE += (df_d.y[i]-df_d.pred[i])**2/df_d.shape[0]\n",
    "print(\"Mean Square Error :\",MSE)"
   ]
  },
  {
   "cell_type": "code",
   "execution_count": null,
   "metadata": {
    "colab": {
     "base_uri": "https://localhost:8080/"
    },
    "id": "A8Sg1nfMSaor",
    "outputId": "84ef73e8-37bc-432a-bd4e-e1de198933d6"
   },
   "outputs": [
    {
     "name": "stdout",
     "output_type": "stream",
     "text": [
      "MAPE : 0.12912029940093667\n"
     ]
    }
   ],
   "source": [
    "#Mean Absolute Percentage Error\n",
    "MAPE = 0\n",
    "for i in df_d.index:\n",
    "  MAPE += abs(df_d.y[i]-df_d.pred[i])/np.sum(df_d['y'])\n",
    "print(\"MAPE :\",MAPE)"
   ]
  },
  {
   "cell_type": "code",
   "execution_count": null,
   "metadata": {
    "colab": {
     "base_uri": "https://localhost:8080/"
    },
    "id": "t0kT0NgASjyo",
    "outputId": "388094a5-6041-499d-8fcd-52a2a7787282"
   },
   "outputs": [
    {
     "name": "stdout",
     "output_type": "stream",
     "text": [
      "R_square_Error :  0.9563582786990964\n"
     ]
    }
   ],
   "source": [
    "#R square Error\n",
    "SS_res=0\n",
    "SS_total=0\n",
    "mean_y = sum(df_d['y'])/df_d.shape[0]\n",
    "for i in df_d.index:\n",
    "  SS_res += (df_d.y[i] - df_d.pred[i])**2 \n",
    "  SS_total += (df_d.y[i] - mean_y)**2\n",
    "\n",
    "R_square_error = 1-(SS_res/SS_total)\n",
    "print(\"R_square_Error : \", R_square_error)"
   ]
  },
  {
   "cell_type": "code",
   "execution_count": null,
   "metadata": {
    "id": "zAUSMiZVG0iu"
   },
   "outputs": [],
   "source": []
  }
 ],
 "metadata": {
  "colab": {
   "collapsed_sections": [],
   "name": "5_Performance_metrics_Instructions.ipynb",
   "provenance": []
  },
  "kernelspec": {
   "display_name": "Python 3",
   "language": "python",
   "name": "python3"
  },
  "language_info": {
   "codemirror_mode": {
    "name": "ipython",
    "version": 3
   },
   "file_extension": ".py",
   "mimetype": "text/x-python",
   "name": "python",
   "nbconvert_exporter": "python",
   "pygments_lexer": "ipython3",
   "version": "3.7.0"
  },
  "widgets": {
   "application/vnd.jupyter.widget-state+json": {
    "00a285948a0a404f86d6dfd7a3f89477": {
     "model_module": "@jupyter-widgets/controls",
     "model_module_version": "1.5.0",
     "model_name": "HBoxModel",
     "state": {
      "_dom_classes": [],
      "_model_module": "@jupyter-widgets/controls",
      "_model_module_version": "1.5.0",
      "_model_name": "HBoxModel",
      "_view_count": null,
      "_view_module": "@jupyter-widgets/controls",
      "_view_module_version": "1.5.0",
      "_view_name": "HBoxView",
      "box_style": "",
      "children": [
       "IPY_MODEL_6c3d7cb7ae584927906cb1544abc0ad4",
       "IPY_MODEL_bf5a7fe5af4d4209bd05fbf275ac5fc6",
       "IPY_MODEL_19debeb9296948cbb7b8436eaa6195df"
      ],
      "layout": "IPY_MODEL_306dc41c8ebc41c9ab4523bc6d883688"
     }
    },
    "19debeb9296948cbb7b8436eaa6195df": {
     "model_module": "@jupyter-widgets/controls",
     "model_module_version": "1.5.0",
     "model_name": "HTMLModel",
     "state": {
      "_dom_classes": [],
      "_model_module": "@jupyter-widgets/controls",
      "_model_module_version": "1.5.0",
      "_model_name": "HTMLModel",
      "_view_count": null,
      "_view_module": "@jupyter-widgets/controls",
      "_view_module_version": "1.5.0",
      "_view_name": "HTMLView",
      "description": "",
      "description_tooltip": null,
      "layout": "IPY_MODEL_8e673c161c7145578d9a2391171f3520",
      "placeholder": "​",
      "style": "IPY_MODEL_4a440f7be94148b38633b19e47e0c36d",
      "value": " 2852/2852 [07:36&lt;00:00,  6.21it/s]"
     }
    },
    "1ab6ee32dfd54120af963473ff3b9ab1": {
     "model_module": "@jupyter-widgets/controls",
     "model_module_version": "1.5.0",
     "model_name": "HBoxModel",
     "state": {
      "_dom_classes": [],
      "_model_module": "@jupyter-widgets/controls",
      "_model_module_version": "1.5.0",
      "_model_name": "HBoxModel",
      "_view_count": null,
      "_view_module": "@jupyter-widgets/controls",
      "_view_module_version": "1.5.0",
      "_view_name": "HBoxView",
      "box_style": "",
      "children": [
       "IPY_MODEL_e3deb52199dc40d7b200a442e077bfe2",
       "IPY_MODEL_929cec76c0c54592b7d2ae2390571125",
       "IPY_MODEL_fba17bc8d93c4c4db26378100a1c9a5a"
      ],
      "layout": "IPY_MODEL_3358054cfb864b75892cca320db2732b"
     }
    },
    "28f14eb8deb84cce97068662036c7074": {
     "model_module": "@jupyter-widgets/controls",
     "model_module_version": "1.5.0",
     "model_name": "FloatProgressModel",
     "state": {
      "_dom_classes": [],
      "_model_module": "@jupyter-widgets/controls",
      "_model_module_version": "1.5.0",
      "_model_name": "FloatProgressModel",
      "_view_count": null,
      "_view_module": "@jupyter-widgets/controls",
      "_view_module_version": "1.5.0",
      "_view_name": "ProgressView",
      "bar_style": "success",
      "description": "",
      "description_tooltip": null,
      "layout": "IPY_MODEL_b75dc1feb9954fc6a300a3c37fb3d14c",
      "max": 10100,
      "min": 0,
      "orientation": "horizontal",
      "style": "IPY_MODEL_fe2ae26b2a914eff88ee0bb3b3f56157",
      "value": 10100
     }
    },
    "306dc41c8ebc41c9ab4523bc6d883688": {
     "model_module": "@jupyter-widgets/base",
     "model_module_version": "1.2.0",
     "model_name": "LayoutModel",
     "state": {
      "_model_module": "@jupyter-widgets/base",
      "_model_module_version": "1.2.0",
      "_model_name": "LayoutModel",
      "_view_count": null,
      "_view_module": "@jupyter-widgets/base",
      "_view_module_version": "1.2.0",
      "_view_name": "LayoutView",
      "align_content": null,
      "align_items": null,
      "align_self": null,
      "border": null,
      "bottom": null,
      "display": null,
      "flex": null,
      "flex_flow": null,
      "grid_area": null,
      "grid_auto_columns": null,
      "grid_auto_flow": null,
      "grid_auto_rows": null,
      "grid_column": null,
      "grid_gap": null,
      "grid_row": null,
      "grid_template_areas": null,
      "grid_template_columns": null,
      "grid_template_rows": null,
      "height": null,
      "justify_content": null,
      "justify_items": null,
      "left": null,
      "margin": null,
      "max_height": null,
      "max_width": null,
      "min_height": null,
      "min_width": null,
      "object_fit": null,
      "object_position": null,
      "order": null,
      "overflow": null,
      "overflow_x": null,
      "overflow_y": null,
      "padding": null,
      "right": null,
      "top": null,
      "visibility": null,
      "width": null
     }
    },
    "3358054cfb864b75892cca320db2732b": {
     "model_module": "@jupyter-widgets/base",
     "model_module_version": "1.2.0",
     "model_name": "LayoutModel",
     "state": {
      "_model_module": "@jupyter-widgets/base",
      "_model_module_version": "1.2.0",
      "_model_name": "LayoutModel",
      "_view_count": null,
      "_view_module": "@jupyter-widgets/base",
      "_view_module_version": "1.2.0",
      "_view_name": "LayoutView",
      "align_content": null,
      "align_items": null,
      "align_self": null,
      "border": null,
      "bottom": null,
      "display": null,
      "flex": null,
      "flex_flow": null,
      "grid_area": null,
      "grid_auto_columns": null,
      "grid_auto_flow": null,
      "grid_auto_rows": null,
      "grid_column": null,
      "grid_gap": null,
      "grid_row": null,
      "grid_template_areas": null,
      "grid_template_columns": null,
      "grid_template_rows": null,
      "height": null,
      "justify_content": null,
      "justify_items": null,
      "left": null,
      "margin": null,
      "max_height": null,
      "max_width": null,
      "min_height": null,
      "min_width": null,
      "object_fit": null,
      "object_position": null,
      "order": null,
      "overflow": null,
      "overflow_x": null,
      "overflow_y": null,
      "padding": null,
      "right": null,
      "top": null,
      "visibility": null,
      "width": null
     }
    },
    "355fbad68d4c41f19918b90369a71393": {
     "model_module": "@jupyter-widgets/controls",
     "model_module_version": "1.5.0",
     "model_name": "ProgressStyleModel",
     "state": {
      "_model_module": "@jupyter-widgets/controls",
      "_model_module_version": "1.5.0",
      "_model_name": "ProgressStyleModel",
      "_view_count": null,
      "_view_module": "@jupyter-widgets/base",
      "_view_module_version": "1.2.0",
      "_view_name": "StyleView",
      "bar_color": null,
      "description_width": ""
     }
    },
    "370d25fc12a145fd98e2f1aa992d61c3": {
     "model_module": "@jupyter-widgets/base",
     "model_module_version": "1.2.0",
     "model_name": "LayoutModel",
     "state": {
      "_model_module": "@jupyter-widgets/base",
      "_model_module_version": "1.2.0",
      "_model_name": "LayoutModel",
      "_view_count": null,
      "_view_module": "@jupyter-widgets/base",
      "_view_module_version": "1.2.0",
      "_view_name": "LayoutView",
      "align_content": null,
      "align_items": null,
      "align_self": null,
      "border": null,
      "bottom": null,
      "display": null,
      "flex": null,
      "flex_flow": null,
      "grid_area": null,
      "grid_auto_columns": null,
      "grid_auto_flow": null,
      "grid_auto_rows": null,
      "grid_column": null,
      "grid_gap": null,
      "grid_row": null,
      "grid_template_areas": null,
      "grid_template_columns": null,
      "grid_template_rows": null,
      "height": null,
      "justify_content": null,
      "justify_items": null,
      "left": null,
      "margin": null,
      "max_height": null,
      "max_width": null,
      "min_height": null,
      "min_width": null,
      "object_fit": null,
      "object_position": null,
      "order": null,
      "overflow": null,
      "overflow_x": null,
      "overflow_y": null,
      "padding": null,
      "right": null,
      "top": null,
      "visibility": null,
      "width": null
     }
    },
    "427b891398c04c98bb6f217c8656c08c": {
     "model_module": "@jupyter-widgets/controls",
     "model_module_version": "1.5.0",
     "model_name": "DescriptionStyleModel",
     "state": {
      "_model_module": "@jupyter-widgets/controls",
      "_model_module_version": "1.5.0",
      "_model_name": "DescriptionStyleModel",
      "_view_count": null,
      "_view_module": "@jupyter-widgets/base",
      "_view_module_version": "1.2.0",
      "_view_name": "StyleView",
      "description_width": ""
     }
    },
    "4a440f7be94148b38633b19e47e0c36d": {
     "model_module": "@jupyter-widgets/controls",
     "model_module_version": "1.5.0",
     "model_name": "DescriptionStyleModel",
     "state": {
      "_model_module": "@jupyter-widgets/controls",
      "_model_module_version": "1.5.0",
      "_model_name": "DescriptionStyleModel",
      "_view_count": null,
      "_view_module": "@jupyter-widgets/base",
      "_view_module_version": "1.2.0",
      "_view_name": "StyleView",
      "description_width": ""
     }
    },
    "53d81d7dc45b4a84870a3b046c140a65": {
     "model_module": "@jupyter-widgets/base",
     "model_module_version": "1.2.0",
     "model_name": "LayoutModel",
     "state": {
      "_model_module": "@jupyter-widgets/base",
      "_model_module_version": "1.2.0",
      "_model_name": "LayoutModel",
      "_view_count": null,
      "_view_module": "@jupyter-widgets/base",
      "_view_module_version": "1.2.0",
      "_view_name": "LayoutView",
      "align_content": null,
      "align_items": null,
      "align_self": null,
      "border": null,
      "bottom": null,
      "display": null,
      "flex": null,
      "flex_flow": null,
      "grid_area": null,
      "grid_auto_columns": null,
      "grid_auto_flow": null,
      "grid_auto_rows": null,
      "grid_column": null,
      "grid_gap": null,
      "grid_row": null,
      "grid_template_areas": null,
      "grid_template_columns": null,
      "grid_template_rows": null,
      "height": null,
      "justify_content": null,
      "justify_items": null,
      "left": null,
      "margin": null,
      "max_height": null,
      "max_width": null,
      "min_height": null,
      "min_width": null,
      "object_fit": null,
      "object_position": null,
      "order": null,
      "overflow": null,
      "overflow_x": null,
      "overflow_y": null,
      "padding": null,
      "right": null,
      "top": null,
      "visibility": null,
      "width": null
     }
    },
    "5d1107c1f4454e71945957a0176d009a": {
     "model_module": "@jupyter-widgets/base",
     "model_module_version": "1.2.0",
     "model_name": "LayoutModel",
     "state": {
      "_model_module": "@jupyter-widgets/base",
      "_model_module_version": "1.2.0",
      "_model_name": "LayoutModel",
      "_view_count": null,
      "_view_module": "@jupyter-widgets/base",
      "_view_module_version": "1.2.0",
      "_view_name": "LayoutView",
      "align_content": null,
      "align_items": null,
      "align_self": null,
      "border": null,
      "bottom": null,
      "display": null,
      "flex": null,
      "flex_flow": null,
      "grid_area": null,
      "grid_auto_columns": null,
      "grid_auto_flow": null,
      "grid_auto_rows": null,
      "grid_column": null,
      "grid_gap": null,
      "grid_row": null,
      "grid_template_areas": null,
      "grid_template_columns": null,
      "grid_template_rows": null,
      "height": null,
      "justify_content": null,
      "justify_items": null,
      "left": null,
      "margin": null,
      "max_height": null,
      "max_width": null,
      "min_height": null,
      "min_width": null,
      "object_fit": null,
      "object_position": null,
      "order": null,
      "overflow": null,
      "overflow_x": null,
      "overflow_y": null,
      "padding": null,
      "right": null,
      "top": null,
      "visibility": null,
      "width": null
     }
    },
    "692af94b96d24ccba2eddc90fc4f2ca1": {
     "model_module": "@jupyter-widgets/base",
     "model_module_version": "1.2.0",
     "model_name": "LayoutModel",
     "state": {
      "_model_module": "@jupyter-widgets/base",
      "_model_module_version": "1.2.0",
      "_model_name": "LayoutModel",
      "_view_count": null,
      "_view_module": "@jupyter-widgets/base",
      "_view_module_version": "1.2.0",
      "_view_name": "LayoutView",
      "align_content": null,
      "align_items": null,
      "align_self": null,
      "border": null,
      "bottom": null,
      "display": null,
      "flex": null,
      "flex_flow": null,
      "grid_area": null,
      "grid_auto_columns": null,
      "grid_auto_flow": null,
      "grid_auto_rows": null,
      "grid_column": null,
      "grid_gap": null,
      "grid_row": null,
      "grid_template_areas": null,
      "grid_template_columns": null,
      "grid_template_rows": null,
      "height": null,
      "justify_content": null,
      "justify_items": null,
      "left": null,
      "margin": null,
      "max_height": null,
      "max_width": null,
      "min_height": null,
      "min_width": null,
      "object_fit": null,
      "object_position": null,
      "order": null,
      "overflow": null,
      "overflow_x": null,
      "overflow_y": null,
      "padding": null,
      "right": null,
      "top": null,
      "visibility": null,
      "width": null
     }
    },
    "69e73361c30948a69951e44d438e3bda": {
     "model_module": "@jupyter-widgets/controls",
     "model_module_version": "1.5.0",
     "model_name": "DescriptionStyleModel",
     "state": {
      "_model_module": "@jupyter-widgets/controls",
      "_model_module_version": "1.5.0",
      "_model_name": "DescriptionStyleModel",
      "_view_count": null,
      "_view_module": "@jupyter-widgets/base",
      "_view_module_version": "1.2.0",
      "_view_name": "StyleView",
      "description_width": ""
     }
    },
    "6c3d7cb7ae584927906cb1544abc0ad4": {
     "model_module": "@jupyter-widgets/controls",
     "model_module_version": "1.5.0",
     "model_name": "HTMLModel",
     "state": {
      "_dom_classes": [],
      "_model_module": "@jupyter-widgets/controls",
      "_model_module_version": "1.5.0",
      "_model_name": "HTMLModel",
      "_view_count": null,
      "_view_module": "@jupyter-widgets/controls",
      "_view_module_version": "1.5.0",
      "_view_name": "HTMLView",
      "description": "",
      "description_tooltip": null,
      "layout": "IPY_MODEL_370d25fc12a145fd98e2f1aa992d61c3",
      "placeholder": "​",
      "style": "IPY_MODEL_69e73361c30948a69951e44d438e3bda",
      "value": "100%"
     }
    },
    "7c20a9b2f36f4815872693b24198f241": {
     "model_module": "@jupyter-widgets/base",
     "model_module_version": "1.2.0",
     "model_name": "LayoutModel",
     "state": {
      "_model_module": "@jupyter-widgets/base",
      "_model_module_version": "1.2.0",
      "_model_name": "LayoutModel",
      "_view_count": null,
      "_view_module": "@jupyter-widgets/base",
      "_view_module_version": "1.2.0",
      "_view_name": "LayoutView",
      "align_content": null,
      "align_items": null,
      "align_self": null,
      "border": null,
      "bottom": null,
      "display": null,
      "flex": null,
      "flex_flow": null,
      "grid_area": null,
      "grid_auto_columns": null,
      "grid_auto_flow": null,
      "grid_auto_rows": null,
      "grid_column": null,
      "grid_gap": null,
      "grid_row": null,
      "grid_template_areas": null,
      "grid_template_columns": null,
      "grid_template_rows": null,
      "height": null,
      "justify_content": null,
      "justify_items": null,
      "left": null,
      "margin": null,
      "max_height": null,
      "max_width": null,
      "min_height": null,
      "min_width": null,
      "object_fit": null,
      "object_position": null,
      "order": null,
      "overflow": null,
      "overflow_x": null,
      "overflow_y": null,
      "padding": null,
      "right": null,
      "top": null,
      "visibility": null,
      "width": null
     }
    },
    "894556b5118b4b74905b5ec7adf5c138": {
     "model_module": "@jupyter-widgets/base",
     "model_module_version": "1.2.0",
     "model_name": "LayoutModel",
     "state": {
      "_model_module": "@jupyter-widgets/base",
      "_model_module_version": "1.2.0",
      "_model_name": "LayoutModel",
      "_view_count": null,
      "_view_module": "@jupyter-widgets/base",
      "_view_module_version": "1.2.0",
      "_view_name": "LayoutView",
      "align_content": null,
      "align_items": null,
      "align_self": null,
      "border": null,
      "bottom": null,
      "display": null,
      "flex": null,
      "flex_flow": null,
      "grid_area": null,
      "grid_auto_columns": null,
      "grid_auto_flow": null,
      "grid_auto_rows": null,
      "grid_column": null,
      "grid_gap": null,
      "grid_row": null,
      "grid_template_areas": null,
      "grid_template_columns": null,
      "grid_template_rows": null,
      "height": null,
      "justify_content": null,
      "justify_items": null,
      "left": null,
      "margin": null,
      "max_height": null,
      "max_width": null,
      "min_height": null,
      "min_width": null,
      "object_fit": null,
      "object_position": null,
      "order": null,
      "overflow": null,
      "overflow_x": null,
      "overflow_y": null,
      "padding": null,
      "right": null,
      "top": null,
      "visibility": null,
      "width": null
     }
    },
    "8e673c161c7145578d9a2391171f3520": {
     "model_module": "@jupyter-widgets/base",
     "model_module_version": "1.2.0",
     "model_name": "LayoutModel",
     "state": {
      "_model_module": "@jupyter-widgets/base",
      "_model_module_version": "1.2.0",
      "_model_name": "LayoutModel",
      "_view_count": null,
      "_view_module": "@jupyter-widgets/base",
      "_view_module_version": "1.2.0",
      "_view_name": "LayoutView",
      "align_content": null,
      "align_items": null,
      "align_self": null,
      "border": null,
      "bottom": null,
      "display": null,
      "flex": null,
      "flex_flow": null,
      "grid_area": null,
      "grid_auto_columns": null,
      "grid_auto_flow": null,
      "grid_auto_rows": null,
      "grid_column": null,
      "grid_gap": null,
      "grid_row": null,
      "grid_template_areas": null,
      "grid_template_columns": null,
      "grid_template_rows": null,
      "height": null,
      "justify_content": null,
      "justify_items": null,
      "left": null,
      "margin": null,
      "max_height": null,
      "max_width": null,
      "min_height": null,
      "min_width": null,
      "object_fit": null,
      "object_position": null,
      "order": null,
      "overflow": null,
      "overflow_x": null,
      "overflow_y": null,
      "padding": null,
      "right": null,
      "top": null,
      "visibility": null,
      "width": null
     }
    },
    "929cec76c0c54592b7d2ae2390571125": {
     "model_module": "@jupyter-widgets/controls",
     "model_module_version": "1.5.0",
     "model_name": "FloatProgressModel",
     "state": {
      "_dom_classes": [],
      "_model_module": "@jupyter-widgets/controls",
      "_model_module_version": "1.5.0",
      "_model_name": "FloatProgressModel",
      "_view_count": null,
      "_view_module": "@jupyter-widgets/controls",
      "_view_module_version": "1.5.0",
      "_view_name": "ProgressView",
      "bar_style": "success",
      "description": "",
      "description_tooltip": null,
      "layout": "IPY_MODEL_692af94b96d24ccba2eddc90fc4f2ca1",
      "max": 10100,
      "min": 0,
      "orientation": "horizontal",
      "style": "IPY_MODEL_355fbad68d4c41f19918b90369a71393",
      "value": 10100
     }
    },
    "93bfcc72498b4a8b9b75c64bbdb0922d": {
     "model_module": "@jupyter-widgets/base",
     "model_module_version": "1.2.0",
     "model_name": "LayoutModel",
     "state": {
      "_model_module": "@jupyter-widgets/base",
      "_model_module_version": "1.2.0",
      "_model_name": "LayoutModel",
      "_view_count": null,
      "_view_module": "@jupyter-widgets/base",
      "_view_module_version": "1.2.0",
      "_view_name": "LayoutView",
      "align_content": null,
      "align_items": null,
      "align_self": null,
      "border": null,
      "bottom": null,
      "display": null,
      "flex": null,
      "flex_flow": null,
      "grid_area": null,
      "grid_auto_columns": null,
      "grid_auto_flow": null,
      "grid_auto_rows": null,
      "grid_column": null,
      "grid_gap": null,
      "grid_row": null,
      "grid_template_areas": null,
      "grid_template_columns": null,
      "grid_template_rows": null,
      "height": null,
      "justify_content": null,
      "justify_items": null,
      "left": null,
      "margin": null,
      "max_height": null,
      "max_width": null,
      "min_height": null,
      "min_width": null,
      "object_fit": null,
      "object_position": null,
      "order": null,
      "overflow": null,
      "overflow_x": null,
      "overflow_y": null,
      "padding": null,
      "right": null,
      "top": null,
      "visibility": null,
      "width": null
     }
    },
    "a4dd9a2b26df4fb1b0d6a96d3274bf7c": {
     "model_module": "@jupyter-widgets/controls",
     "model_module_version": "1.5.0",
     "model_name": "DescriptionStyleModel",
     "state": {
      "_model_module": "@jupyter-widgets/controls",
      "_model_module_version": "1.5.0",
      "_model_name": "DescriptionStyleModel",
      "_view_count": null,
      "_view_module": "@jupyter-widgets/base",
      "_view_module_version": "1.2.0",
      "_view_name": "StyleView",
      "description_width": ""
     }
    },
    "aa9207c3e19e4f58b19a9b56cdb5d92f": {
     "model_module": "@jupyter-widgets/controls",
     "model_module_version": "1.5.0",
     "model_name": "HTMLModel",
     "state": {
      "_dom_classes": [],
      "_model_module": "@jupyter-widgets/controls",
      "_model_module_version": "1.5.0",
      "_model_name": "HTMLModel",
      "_view_count": null,
      "_view_module": "@jupyter-widgets/controls",
      "_view_module_version": "1.5.0",
      "_view_name": "HTMLView",
      "description": "",
      "description_tooltip": null,
      "layout": "IPY_MODEL_5d1107c1f4454e71945957a0176d009a",
      "placeholder": "​",
      "style": "IPY_MODEL_a4dd9a2b26df4fb1b0d6a96d3274bf7c",
      "value": "100%"
     }
    },
    "addb03524689472b941c5dd6b086ad72": {
     "model_module": "@jupyter-widgets/controls",
     "model_module_version": "1.5.0",
     "model_name": "HBoxModel",
     "state": {
      "_dom_classes": [],
      "_model_module": "@jupyter-widgets/controls",
      "_model_module_version": "1.5.0",
      "_model_name": "HBoxModel",
      "_view_count": null,
      "_view_module": "@jupyter-widgets/controls",
      "_view_module_version": "1.5.0",
      "_view_name": "HBoxView",
      "box_style": "",
      "children": [
       "IPY_MODEL_aa9207c3e19e4f58b19a9b56cdb5d92f",
       "IPY_MODEL_28f14eb8deb84cce97068662036c7074",
       "IPY_MODEL_de5eee42f48044eb840a9b8d8e84921d"
      ],
      "layout": "IPY_MODEL_93bfcc72498b4a8b9b75c64bbdb0922d"
     }
    },
    "aeceeda9eb224dc69f23e0668e2d547b": {
     "model_module": "@jupyter-widgets/controls",
     "model_module_version": "1.5.0",
     "model_name": "DescriptionStyleModel",
     "state": {
      "_model_module": "@jupyter-widgets/controls",
      "_model_module_version": "1.5.0",
      "_model_name": "DescriptionStyleModel",
      "_view_count": null,
      "_view_module": "@jupyter-widgets/base",
      "_view_module_version": "1.2.0",
      "_view_name": "StyleView",
      "description_width": ""
     }
    },
    "b75dc1feb9954fc6a300a3c37fb3d14c": {
     "model_module": "@jupyter-widgets/base",
     "model_module_version": "1.2.0",
     "model_name": "LayoutModel",
     "state": {
      "_model_module": "@jupyter-widgets/base",
      "_model_module_version": "1.2.0",
      "_model_name": "LayoutModel",
      "_view_count": null,
      "_view_module": "@jupyter-widgets/base",
      "_view_module_version": "1.2.0",
      "_view_name": "LayoutView",
      "align_content": null,
      "align_items": null,
      "align_self": null,
      "border": null,
      "bottom": null,
      "display": null,
      "flex": null,
      "flex_flow": null,
      "grid_area": null,
      "grid_auto_columns": null,
      "grid_auto_flow": null,
      "grid_auto_rows": null,
      "grid_column": null,
      "grid_gap": null,
      "grid_row": null,
      "grid_template_areas": null,
      "grid_template_columns": null,
      "grid_template_rows": null,
      "height": null,
      "justify_content": null,
      "justify_items": null,
      "left": null,
      "margin": null,
      "max_height": null,
      "max_width": null,
      "min_height": null,
      "min_width": null,
      "object_fit": null,
      "object_position": null,
      "order": null,
      "overflow": null,
      "overflow_x": null,
      "overflow_y": null,
      "padding": null,
      "right": null,
      "top": null,
      "visibility": null,
      "width": null
     }
    },
    "bf5a7fe5af4d4209bd05fbf275ac5fc6": {
     "model_module": "@jupyter-widgets/controls",
     "model_module_version": "1.5.0",
     "model_name": "FloatProgressModel",
     "state": {
      "_dom_classes": [],
      "_model_module": "@jupyter-widgets/controls",
      "_model_module_version": "1.5.0",
      "_model_name": "FloatProgressModel",
      "_view_count": null,
      "_view_module": "@jupyter-widgets/controls",
      "_view_module_version": "1.5.0",
      "_view_name": "ProgressView",
      "bar_style": "success",
      "description": "",
      "description_tooltip": null,
      "layout": "IPY_MODEL_53d81d7dc45b4a84870a3b046c140a65",
      "max": 2852,
      "min": 0,
      "orientation": "horizontal",
      "style": "IPY_MODEL_dacb0ef2570a462484a234f1f0b9fe3d",
      "value": 2852
     }
    },
    "cf5a866c11d943cda9852eebb524bb9a": {
     "model_module": "@jupyter-widgets/base",
     "model_module_version": "1.2.0",
     "model_name": "LayoutModel",
     "state": {
      "_model_module": "@jupyter-widgets/base",
      "_model_module_version": "1.2.0",
      "_model_name": "LayoutModel",
      "_view_count": null,
      "_view_module": "@jupyter-widgets/base",
      "_view_module_version": "1.2.0",
      "_view_name": "LayoutView",
      "align_content": null,
      "align_items": null,
      "align_self": null,
      "border": null,
      "bottom": null,
      "display": null,
      "flex": null,
      "flex_flow": null,
      "grid_area": null,
      "grid_auto_columns": null,
      "grid_auto_flow": null,
      "grid_auto_rows": null,
      "grid_column": null,
      "grid_gap": null,
      "grid_row": null,
      "grid_template_areas": null,
      "grid_template_columns": null,
      "grid_template_rows": null,
      "height": null,
      "justify_content": null,
      "justify_items": null,
      "left": null,
      "margin": null,
      "max_height": null,
      "max_width": null,
      "min_height": null,
      "min_width": null,
      "object_fit": null,
      "object_position": null,
      "order": null,
      "overflow": null,
      "overflow_x": null,
      "overflow_y": null,
      "padding": null,
      "right": null,
      "top": null,
      "visibility": null,
      "width": null
     }
    },
    "dacb0ef2570a462484a234f1f0b9fe3d": {
     "model_module": "@jupyter-widgets/controls",
     "model_module_version": "1.5.0",
     "model_name": "ProgressStyleModel",
     "state": {
      "_model_module": "@jupyter-widgets/controls",
      "_model_module_version": "1.5.0",
      "_model_name": "ProgressStyleModel",
      "_view_count": null,
      "_view_module": "@jupyter-widgets/base",
      "_view_module_version": "1.2.0",
      "_view_name": "StyleView",
      "bar_color": null,
      "description_width": ""
     }
    },
    "de5eee42f48044eb840a9b8d8e84921d": {
     "model_module": "@jupyter-widgets/controls",
     "model_module_version": "1.5.0",
     "model_name": "HTMLModel",
     "state": {
      "_dom_classes": [],
      "_model_module": "@jupyter-widgets/controls",
      "_model_module_version": "1.5.0",
      "_model_name": "HTMLModel",
      "_view_count": null,
      "_view_module": "@jupyter-widgets/controls",
      "_view_module_version": "1.5.0",
      "_view_name": "HTMLView",
      "description": "",
      "description_tooltip": null,
      "layout": "IPY_MODEL_cf5a866c11d943cda9852eebb524bb9a",
      "placeholder": "​",
      "style": "IPY_MODEL_427b891398c04c98bb6f217c8656c08c",
      "value": " 10100/10100 [1:43:01&lt;00:00,  1.72it/s]"
     }
    },
    "e3deb52199dc40d7b200a442e077bfe2": {
     "model_module": "@jupyter-widgets/controls",
     "model_module_version": "1.5.0",
     "model_name": "HTMLModel",
     "state": {
      "_dom_classes": [],
      "_model_module": "@jupyter-widgets/controls",
      "_model_module_version": "1.5.0",
      "_model_name": "HTMLModel",
      "_view_count": null,
      "_view_module": "@jupyter-widgets/controls",
      "_view_module_version": "1.5.0",
      "_view_name": "HTMLView",
      "description": "",
      "description_tooltip": null,
      "layout": "IPY_MODEL_894556b5118b4b74905b5ec7adf5c138",
      "placeholder": "​",
      "style": "IPY_MODEL_e6c60e6ec3434f1e8d0b01090c38a80e",
      "value": "100%"
     }
    },
    "e6c60e6ec3434f1e8d0b01090c38a80e": {
     "model_module": "@jupyter-widgets/controls",
     "model_module_version": "1.5.0",
     "model_name": "DescriptionStyleModel",
     "state": {
      "_model_module": "@jupyter-widgets/controls",
      "_model_module_version": "1.5.0",
      "_model_name": "DescriptionStyleModel",
      "_view_count": null,
      "_view_module": "@jupyter-widgets/base",
      "_view_module_version": "1.2.0",
      "_view_name": "StyleView",
      "description_width": ""
     }
    },
    "fba17bc8d93c4c4db26378100a1c9a5a": {
     "model_module": "@jupyter-widgets/controls",
     "model_module_version": "1.5.0",
     "model_name": "HTMLModel",
     "state": {
      "_dom_classes": [],
      "_model_module": "@jupyter-widgets/controls",
      "_model_module_version": "1.5.0",
      "_model_name": "HTMLModel",
      "_view_count": null,
      "_view_module": "@jupyter-widgets/controls",
      "_view_module_version": "1.5.0",
      "_view_name": "HTMLView",
      "description": "",
      "description_tooltip": null,
      "layout": "IPY_MODEL_7c20a9b2f36f4815872693b24198f241",
      "placeholder": "​",
      "style": "IPY_MODEL_aeceeda9eb224dc69f23e0668e2d547b",
      "value": " 10100/10100 [1:39:12&lt;00:00,  1.72it/s]"
     }
    },
    "fe2ae26b2a914eff88ee0bb3b3f56157": {
     "model_module": "@jupyter-widgets/controls",
     "model_module_version": "1.5.0",
     "model_name": "ProgressStyleModel",
     "state": {
      "_model_module": "@jupyter-widgets/controls",
      "_model_module_version": "1.5.0",
      "_model_name": "ProgressStyleModel",
      "_view_count": null,
      "_view_module": "@jupyter-widgets/base",
      "_view_module_version": "1.2.0",
      "_view_name": "StyleView",
      "bar_color": null,
      "description_width": ""
     }
    }
   }
  }
 },
 "nbformat": 4,
 "nbformat_minor": 1
}
